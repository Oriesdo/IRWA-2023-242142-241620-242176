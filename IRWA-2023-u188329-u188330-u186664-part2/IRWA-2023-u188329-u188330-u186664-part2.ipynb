{
  "nbformat": 4,
  "nbformat_minor": 0,
  "metadata": {
    "colab": {
      "provenance": [],
      "collapsed_sections": [
        "VLyuvPKYBmLs"
      ]
    },
    "kernelspec": {
      "name": "python3",
      "display_name": "Python 3"
    },
    "language_info": {
      "name": "python"
    }
  },
  "cells": [
    {
      "cell_type": "markdown",
      "source": [
        "# Project IRWA\n",
        "\n",
        "Estellers, Oriol - 242142\n",
        "\n",
        "Fuentes, Raimon - 242176\n",
        "  \n",
        "Ribas, Pol - 241620"
      ],
      "metadata": {
        "id": "uxXmU480uNbi"
      }
    },
    {
      "cell_type": "markdown",
      "source": [
        "## Part 1"
      ],
      "metadata": {
        "id": "gtX5YD41L3rQ"
      }
    },
    {
      "cell_type": "markdown",
      "source": [
        "### Packages and imports"
      ],
      "metadata": {
        "id": "U6hobQFQvTew"
      }
    },
    {
      "cell_type": "code",
      "source": [
        "!pip install spacy"
      ],
      "metadata": {
        "id": "zLDzps3eNyBC",
        "colab": {
          "base_uri": "https://localhost:8080/"
        },
        "outputId": "89760f47-211d-44a0-fc91-fb18538d9e47"
      },
      "execution_count": 1,
      "outputs": [
        {
          "output_type": "stream",
          "name": "stdout",
          "text": [
            "Requirement already satisfied: spacy in /usr/local/lib/python3.10/dist-packages (3.6.1)\n",
            "Requirement already satisfied: spacy-legacy<3.1.0,>=3.0.11 in /usr/local/lib/python3.10/dist-packages (from spacy) (3.0.12)\n",
            "Requirement already satisfied: spacy-loggers<2.0.0,>=1.0.0 in /usr/local/lib/python3.10/dist-packages (from spacy) (1.0.5)\n",
            "Requirement already satisfied: murmurhash<1.1.0,>=0.28.0 in /usr/local/lib/python3.10/dist-packages (from spacy) (1.0.10)\n",
            "Requirement already satisfied: cymem<2.1.0,>=2.0.2 in /usr/local/lib/python3.10/dist-packages (from spacy) (2.0.8)\n",
            "Requirement already satisfied: preshed<3.1.0,>=3.0.2 in /usr/local/lib/python3.10/dist-packages (from spacy) (3.0.9)\n",
            "Requirement already satisfied: thinc<8.2.0,>=8.1.8 in /usr/local/lib/python3.10/dist-packages (from spacy) (8.1.12)\n",
            "Requirement already satisfied: wasabi<1.2.0,>=0.9.1 in /usr/local/lib/python3.10/dist-packages (from spacy) (1.1.2)\n",
            "Requirement already satisfied: srsly<3.0.0,>=2.4.3 in /usr/local/lib/python3.10/dist-packages (from spacy) (2.4.8)\n",
            "Requirement already satisfied: catalogue<2.1.0,>=2.0.6 in /usr/local/lib/python3.10/dist-packages (from spacy) (2.0.10)\n",
            "Requirement already satisfied: typer<0.10.0,>=0.3.0 in /usr/local/lib/python3.10/dist-packages (from spacy) (0.9.0)\n",
            "Requirement already satisfied: pathy>=0.10.0 in /usr/local/lib/python3.10/dist-packages (from spacy) (0.10.3)\n",
            "Requirement already satisfied: smart-open<7.0.0,>=5.2.1 in /usr/local/lib/python3.10/dist-packages (from spacy) (6.4.0)\n",
            "Requirement already satisfied: tqdm<5.0.0,>=4.38.0 in /usr/local/lib/python3.10/dist-packages (from spacy) (4.66.1)\n",
            "Requirement already satisfied: numpy>=1.15.0 in /usr/local/lib/python3.10/dist-packages (from spacy) (1.23.5)\n",
            "Requirement already satisfied: requests<3.0.0,>=2.13.0 in /usr/local/lib/python3.10/dist-packages (from spacy) (2.31.0)\n",
            "Requirement already satisfied: pydantic!=1.8,!=1.8.1,<3.0.0,>=1.7.4 in /usr/local/lib/python3.10/dist-packages (from spacy) (1.10.13)\n",
            "Requirement already satisfied: jinja2 in /usr/local/lib/python3.10/dist-packages (from spacy) (3.1.2)\n",
            "Requirement already satisfied: setuptools in /usr/local/lib/python3.10/dist-packages (from spacy) (67.7.2)\n",
            "Requirement already satisfied: packaging>=20.0 in /usr/local/lib/python3.10/dist-packages (from spacy) (23.2)\n",
            "Requirement already satisfied: langcodes<4.0.0,>=3.2.0 in /usr/local/lib/python3.10/dist-packages (from spacy) (3.3.0)\n",
            "Requirement already satisfied: typing-extensions>=4.2.0 in /usr/local/lib/python3.10/dist-packages (from pydantic!=1.8,!=1.8.1,<3.0.0,>=1.7.4->spacy) (4.5.0)\n",
            "Requirement already satisfied: charset-normalizer<4,>=2 in /usr/local/lib/python3.10/dist-packages (from requests<3.0.0,>=2.13.0->spacy) (3.3.1)\n",
            "Requirement already satisfied: idna<4,>=2.5 in /usr/local/lib/python3.10/dist-packages (from requests<3.0.0,>=2.13.0->spacy) (3.4)\n",
            "Requirement already satisfied: urllib3<3,>=1.21.1 in /usr/local/lib/python3.10/dist-packages (from requests<3.0.0,>=2.13.0->spacy) (2.0.7)\n",
            "Requirement already satisfied: certifi>=2017.4.17 in /usr/local/lib/python3.10/dist-packages (from requests<3.0.0,>=2.13.0->spacy) (2023.7.22)\n",
            "Requirement already satisfied: blis<0.8.0,>=0.7.8 in /usr/local/lib/python3.10/dist-packages (from thinc<8.2.0,>=8.1.8->spacy) (0.7.11)\n",
            "Requirement already satisfied: confection<1.0.0,>=0.0.1 in /usr/local/lib/python3.10/dist-packages (from thinc<8.2.0,>=8.1.8->spacy) (0.1.3)\n",
            "Requirement already satisfied: click<9.0.0,>=7.1.1 in /usr/local/lib/python3.10/dist-packages (from typer<0.10.0,>=0.3.0->spacy) (8.1.7)\n",
            "Requirement already satisfied: MarkupSafe>=2.0 in /usr/local/lib/python3.10/dist-packages (from jinja2->spacy) (2.1.3)\n"
          ]
        }
      ]
    },
    {
      "cell_type": "code",
      "source": [
        "!python -m spacy download en_core_web_sm"
      ],
      "metadata": {
        "id": "fbwrxDRNN0jj",
        "colab": {
          "base_uri": "https://localhost:8080/"
        },
        "outputId": "92d3166f-8421-411e-f9ae-cd5c568dbc76"
      },
      "execution_count": 2,
      "outputs": [
        {
          "output_type": "stream",
          "name": "stdout",
          "text": [
            "2023-10-29 22:41:20.836791: E tensorflow/compiler/xla/stream_executor/cuda/cuda_dnn.cc:9342] Unable to register cuDNN factory: Attempting to register factory for plugin cuDNN when one has already been registered\n",
            "2023-10-29 22:41:20.836852: E tensorflow/compiler/xla/stream_executor/cuda/cuda_fft.cc:609] Unable to register cuFFT factory: Attempting to register factory for plugin cuFFT when one has already been registered\n",
            "2023-10-29 22:41:20.836888: E tensorflow/compiler/xla/stream_executor/cuda/cuda_blas.cc:1518] Unable to register cuBLAS factory: Attempting to register factory for plugin cuBLAS when one has already been registered\n",
            "2023-10-29 22:41:20.847072: I tensorflow/core/platform/cpu_feature_guard.cc:182] This TensorFlow binary is optimized to use available CPU instructions in performance-critical operations.\n",
            "To enable the following instructions: AVX2 FMA, in other operations, rebuild TensorFlow with the appropriate compiler flags.\n",
            "2023-10-29 22:41:23.255533: W tensorflow/compiler/tf2tensorrt/utils/py_utils.cc:38] TF-TRT Warning: Could not find TensorRT\n",
            "Collecting en-core-web-sm==3.6.0\n",
            "  Downloading https://github.com/explosion/spacy-models/releases/download/en_core_web_sm-3.6.0/en_core_web_sm-3.6.0-py3-none-any.whl (12.8 MB)\n",
            "\u001b[2K     \u001b[90m━━━━━━━━━━━━━━━━━━━━━━━━━━━━━━━━━━━━━━━━\u001b[0m \u001b[32m12.8/12.8 MB\u001b[0m \u001b[31m20.9 MB/s\u001b[0m eta \u001b[36m0:00:00\u001b[0m\n",
            "\u001b[?25hRequirement already satisfied: spacy<3.7.0,>=3.6.0 in /usr/local/lib/python3.10/dist-packages (from en-core-web-sm==3.6.0) (3.6.1)\n",
            "Requirement already satisfied: spacy-legacy<3.1.0,>=3.0.11 in /usr/local/lib/python3.10/dist-packages (from spacy<3.7.0,>=3.6.0->en-core-web-sm==3.6.0) (3.0.12)\n",
            "Requirement already satisfied: spacy-loggers<2.0.0,>=1.0.0 in /usr/local/lib/python3.10/dist-packages (from spacy<3.7.0,>=3.6.0->en-core-web-sm==3.6.0) (1.0.5)\n",
            "Requirement already satisfied: murmurhash<1.1.0,>=0.28.0 in /usr/local/lib/python3.10/dist-packages (from spacy<3.7.0,>=3.6.0->en-core-web-sm==3.6.0) (1.0.10)\n",
            "Requirement already satisfied: cymem<2.1.0,>=2.0.2 in /usr/local/lib/python3.10/dist-packages (from spacy<3.7.0,>=3.6.0->en-core-web-sm==3.6.0) (2.0.8)\n",
            "Requirement already satisfied: preshed<3.1.0,>=3.0.2 in /usr/local/lib/python3.10/dist-packages (from spacy<3.7.0,>=3.6.0->en-core-web-sm==3.6.0) (3.0.9)\n",
            "Requirement already satisfied: thinc<8.2.0,>=8.1.8 in /usr/local/lib/python3.10/dist-packages (from spacy<3.7.0,>=3.6.0->en-core-web-sm==3.6.0) (8.1.12)\n",
            "Requirement already satisfied: wasabi<1.2.0,>=0.9.1 in /usr/local/lib/python3.10/dist-packages (from spacy<3.7.0,>=3.6.0->en-core-web-sm==3.6.0) (1.1.2)\n",
            "Requirement already satisfied: srsly<3.0.0,>=2.4.3 in /usr/local/lib/python3.10/dist-packages (from spacy<3.7.0,>=3.6.0->en-core-web-sm==3.6.0) (2.4.8)\n",
            "Requirement already satisfied: catalogue<2.1.0,>=2.0.6 in /usr/local/lib/python3.10/dist-packages (from spacy<3.7.0,>=3.6.0->en-core-web-sm==3.6.0) (2.0.10)\n",
            "Requirement already satisfied: typer<0.10.0,>=0.3.0 in /usr/local/lib/python3.10/dist-packages (from spacy<3.7.0,>=3.6.0->en-core-web-sm==3.6.0) (0.9.0)\n",
            "Requirement already satisfied: pathy>=0.10.0 in /usr/local/lib/python3.10/dist-packages (from spacy<3.7.0,>=3.6.0->en-core-web-sm==3.6.0) (0.10.3)\n",
            "Requirement already satisfied: smart-open<7.0.0,>=5.2.1 in /usr/local/lib/python3.10/dist-packages (from spacy<3.7.0,>=3.6.0->en-core-web-sm==3.6.0) (6.4.0)\n",
            "Requirement already satisfied: tqdm<5.0.0,>=4.38.0 in /usr/local/lib/python3.10/dist-packages (from spacy<3.7.0,>=3.6.0->en-core-web-sm==3.6.0) (4.66.1)\n",
            "Requirement already satisfied: numpy>=1.15.0 in /usr/local/lib/python3.10/dist-packages (from spacy<3.7.0,>=3.6.0->en-core-web-sm==3.6.0) (1.23.5)\n",
            "Requirement already satisfied: requests<3.0.0,>=2.13.0 in /usr/local/lib/python3.10/dist-packages (from spacy<3.7.0,>=3.6.0->en-core-web-sm==3.6.0) (2.31.0)\n",
            "Requirement already satisfied: pydantic!=1.8,!=1.8.1,<3.0.0,>=1.7.4 in /usr/local/lib/python3.10/dist-packages (from spacy<3.7.0,>=3.6.0->en-core-web-sm==3.6.0) (1.10.13)\n",
            "Requirement already satisfied: jinja2 in /usr/local/lib/python3.10/dist-packages (from spacy<3.7.0,>=3.6.0->en-core-web-sm==3.6.0) (3.1.2)\n",
            "Requirement already satisfied: setuptools in /usr/local/lib/python3.10/dist-packages (from spacy<3.7.0,>=3.6.0->en-core-web-sm==3.6.0) (67.7.2)\n",
            "Requirement already satisfied: packaging>=20.0 in /usr/local/lib/python3.10/dist-packages (from spacy<3.7.0,>=3.6.0->en-core-web-sm==3.6.0) (23.2)\n",
            "Requirement already satisfied: langcodes<4.0.0,>=3.2.0 in /usr/local/lib/python3.10/dist-packages (from spacy<3.7.0,>=3.6.0->en-core-web-sm==3.6.0) (3.3.0)\n",
            "Requirement already satisfied: typing-extensions>=4.2.0 in /usr/local/lib/python3.10/dist-packages (from pydantic!=1.8,!=1.8.1,<3.0.0,>=1.7.4->spacy<3.7.0,>=3.6.0->en-core-web-sm==3.6.0) (4.5.0)\n",
            "Requirement already satisfied: charset-normalizer<4,>=2 in /usr/local/lib/python3.10/dist-packages (from requests<3.0.0,>=2.13.0->spacy<3.7.0,>=3.6.0->en-core-web-sm==3.6.0) (3.3.1)\n",
            "Requirement already satisfied: idna<4,>=2.5 in /usr/local/lib/python3.10/dist-packages (from requests<3.0.0,>=2.13.0->spacy<3.7.0,>=3.6.0->en-core-web-sm==3.6.0) (3.4)\n",
            "Requirement already satisfied: urllib3<3,>=1.21.1 in /usr/local/lib/python3.10/dist-packages (from requests<3.0.0,>=2.13.0->spacy<3.7.0,>=3.6.0->en-core-web-sm==3.6.0) (2.0.7)\n",
            "Requirement already satisfied: certifi>=2017.4.17 in /usr/local/lib/python3.10/dist-packages (from requests<3.0.0,>=2.13.0->spacy<3.7.0,>=3.6.0->en-core-web-sm==3.6.0) (2023.7.22)\n",
            "Requirement already satisfied: blis<0.8.0,>=0.7.8 in /usr/local/lib/python3.10/dist-packages (from thinc<8.2.0,>=8.1.8->spacy<3.7.0,>=3.6.0->en-core-web-sm==3.6.0) (0.7.11)\n",
            "Requirement already satisfied: confection<1.0.0,>=0.0.1 in /usr/local/lib/python3.10/dist-packages (from thinc<8.2.0,>=8.1.8->spacy<3.7.0,>=3.6.0->en-core-web-sm==3.6.0) (0.1.3)\n",
            "Requirement already satisfied: click<9.0.0,>=7.1.1 in /usr/local/lib/python3.10/dist-packages (from typer<0.10.0,>=0.3.0->spacy<3.7.0,>=3.6.0->en-core-web-sm==3.6.0) (8.1.7)\n",
            "Requirement already satisfied: MarkupSafe>=2.0 in /usr/local/lib/python3.10/dist-packages (from jinja2->spacy<3.7.0,>=3.6.0->en-core-web-sm==3.6.0) (2.1.3)\n",
            "\u001b[38;5;2m✔ Download and installation successful\u001b[0m\n",
            "You can now load the package via spacy.load('en_core_web_sm')\n"
          ]
        }
      ]
    },
    {
      "cell_type": "code",
      "source": [
        "!pip install num2words"
      ],
      "metadata": {
        "id": "sUxHAPb5BS9r",
        "colab": {
          "base_uri": "https://localhost:8080/"
        },
        "outputId": "4a867109-5a4b-4d27-e0f6-51eee22fb153"
      },
      "execution_count": 3,
      "outputs": [
        {
          "output_type": "stream",
          "name": "stdout",
          "text": [
            "Collecting num2words\n",
            "  Downloading num2words-0.5.13-py3-none-any.whl (143 kB)\n",
            "\u001b[?25l     \u001b[90m━━━━━━━━━━━━━━━━━━━━━━━━━━━━━━━━━━━━━━━━\u001b[0m \u001b[32m0.0/143.3 kB\u001b[0m \u001b[31m?\u001b[0m eta \u001b[36m-:--:--\u001b[0m\r\u001b[2K     \u001b[91m━━━━━━━━━━━━━━━━━━━━━━━━━━━━━━━━━━━━━\u001b[0m\u001b[90m╺\u001b[0m\u001b[90m━━\u001b[0m \u001b[32m133.1/143.3 kB\u001b[0m \u001b[31m4.1 MB/s\u001b[0m eta \u001b[36m0:00:01\u001b[0m\r\u001b[2K     \u001b[90m━━━━━━━━━━━━━━━━━━━━━━━━━━━━━━━━━━━━━━━━\u001b[0m \u001b[32m143.3/143.3 kB\u001b[0m \u001b[31m3.6 MB/s\u001b[0m eta \u001b[36m0:00:00\u001b[0m\n",
            "\u001b[?25hCollecting docopt>=0.6.2 (from num2words)\n",
            "  Downloading docopt-0.6.2.tar.gz (25 kB)\n",
            "  Preparing metadata (setup.py) ... \u001b[?25l\u001b[?25hdone\n",
            "Building wheels for collected packages: docopt\n",
            "  Building wheel for docopt (setup.py) ... \u001b[?25l\u001b[?25hdone\n",
            "  Created wheel for docopt: filename=docopt-0.6.2-py2.py3-none-any.whl size=13705 sha256=9663637861c6c331bce0b3a9ac27f57c46cfed1cef8f91ea96513600a5774c50\n",
            "  Stored in directory: /root/.cache/pip/wheels/fc/ab/d4/5da2067ac95b36618c629a5f93f809425700506f72c9732fac\n",
            "Successfully built docopt\n",
            "Installing collected packages: docopt, num2words\n",
            "Successfully installed docopt-0.6.2 num2words-0.5.13\n"
          ]
        }
      ]
    },
    {
      "cell_type": "code",
      "source": [
        "!pip install clean-text"
      ],
      "metadata": {
        "id": "IvlWXnmmKHCw",
        "colab": {
          "base_uri": "https://localhost:8080/"
        },
        "outputId": "1e837918-4bff-4669-8855-e3b6cc82205c"
      },
      "execution_count": 4,
      "outputs": [
        {
          "output_type": "stream",
          "name": "stdout",
          "text": [
            "Collecting clean-text\n",
            "  Downloading clean_text-0.6.0-py3-none-any.whl (11 kB)\n",
            "Collecting emoji<2.0.0,>=1.0.0 (from clean-text)\n",
            "  Downloading emoji-1.7.0.tar.gz (175 kB)\n",
            "\u001b[2K     \u001b[90m━━━━━━━━━━━━━━━━━━━━━━━━━━━━━━━━━━━━━━━━\u001b[0m \u001b[32m175.4/175.4 kB\u001b[0m \u001b[31m3.8 MB/s\u001b[0m eta \u001b[36m0:00:00\u001b[0m\n",
            "\u001b[?25h  Preparing metadata (setup.py) ... \u001b[?25l\u001b[?25hdone\n",
            "Collecting ftfy<7.0,>=6.0 (from clean-text)\n",
            "  Downloading ftfy-6.1.1-py3-none-any.whl (53 kB)\n",
            "\u001b[2K     \u001b[90m━━━━━━━━━━━━━━━━━━━━━━━━━━━━━━━━━━━━━━━━\u001b[0m \u001b[32m53.1/53.1 kB\u001b[0m \u001b[31m4.7 MB/s\u001b[0m eta \u001b[36m0:00:00\u001b[0m\n",
            "\u001b[?25hRequirement already satisfied: wcwidth>=0.2.5 in /usr/local/lib/python3.10/dist-packages (from ftfy<7.0,>=6.0->clean-text) (0.2.8)\n",
            "Building wheels for collected packages: emoji\n",
            "  Building wheel for emoji (setup.py) ... \u001b[?25l\u001b[?25hdone\n",
            "  Created wheel for emoji: filename=emoji-1.7.0-py3-none-any.whl size=171033 sha256=fbe38c66e7722d1d273abcf3083ce51b0748f016c6637fa687b15b497387af68\n",
            "  Stored in directory: /root/.cache/pip/wheels/31/8a/8c/315c9e5d7773f74b33d5ed33f075b49c6eaeb7cedbb86e2cf8\n",
            "Successfully built emoji\n",
            "Installing collected packages: emoji, ftfy, clean-text\n",
            "Successfully installed clean-text-0.6.0 emoji-1.7.0 ftfy-6.1.1\n"
          ]
        }
      ]
    },
    {
      "cell_type": "code",
      "source": [
        "!pip install wordcloud"
      ],
      "metadata": {
        "id": "TeIdUG72DGGQ",
        "colab": {
          "base_uri": "https://localhost:8080/"
        },
        "outputId": "4fba4360-11ae-4b7e-91d4-ceb31d4e2e14"
      },
      "execution_count": 5,
      "outputs": [
        {
          "output_type": "stream",
          "name": "stdout",
          "text": [
            "Requirement already satisfied: wordcloud in /usr/local/lib/python3.10/dist-packages (1.9.2)\n",
            "Requirement already satisfied: numpy>=1.6.1 in /usr/local/lib/python3.10/dist-packages (from wordcloud) (1.23.5)\n",
            "Requirement already satisfied: pillow in /usr/local/lib/python3.10/dist-packages (from wordcloud) (9.4.0)\n",
            "Requirement already satisfied: matplotlib in /usr/local/lib/python3.10/dist-packages (from wordcloud) (3.7.1)\n",
            "Requirement already satisfied: contourpy>=1.0.1 in /usr/local/lib/python3.10/dist-packages (from matplotlib->wordcloud) (1.1.1)\n",
            "Requirement already satisfied: cycler>=0.10 in /usr/local/lib/python3.10/dist-packages (from matplotlib->wordcloud) (0.12.1)\n",
            "Requirement already satisfied: fonttools>=4.22.0 in /usr/local/lib/python3.10/dist-packages (from matplotlib->wordcloud) (4.43.1)\n",
            "Requirement already satisfied: kiwisolver>=1.0.1 in /usr/local/lib/python3.10/dist-packages (from matplotlib->wordcloud) (1.4.5)\n",
            "Requirement already satisfied: packaging>=20.0 in /usr/local/lib/python3.10/dist-packages (from matplotlib->wordcloud) (23.2)\n",
            "Requirement already satisfied: pyparsing>=2.3.1 in /usr/local/lib/python3.10/dist-packages (from matplotlib->wordcloud) (3.1.1)\n",
            "Requirement already satisfied: python-dateutil>=2.7 in /usr/local/lib/python3.10/dist-packages (from matplotlib->wordcloud) (2.8.2)\n",
            "Requirement already satisfied: six>=1.5 in /usr/local/lib/python3.10/dist-packages (from python-dateutil>=2.7->matplotlib->wordcloud) (1.16.0)\n"
          ]
        }
      ]
    },
    {
      "cell_type": "code",
      "source": [
        "from collections import defaultdict\n",
        "from array import array\n",
        "from nltk.stem import PorterStemmer\n",
        "from nltk.corpus import stopwords\n",
        "import math\n",
        "import numpy as np\n",
        "import collections\n",
        "import os\n",
        "from numpy import linalg as la\n",
        "import pandas as pd\n",
        "import re\n",
        "from num2words import num2words\n",
        "import string\n",
        "from cleantext import clean\n",
        "import emoji\n",
        "import regex\n",
        "from nltk.tokenize import TweetTokenizer\n",
        "from collections import Counter\n",
        "import plotly.express as px\n",
        "import matplotlib.pyplot as plt\n",
        "from wordcloud import WordCloud\n",
        "import nltk\n",
        "nltk.download('stopwords')\n",
        "import spacy\n",
        "import matplotlib.pyplot as plt\n",
        "from collections import Counter\n",
        "import time\n",
        "from google.colab import drive\n",
        "from nltk.draw.util import Text\n",
        "from gensim.models.word2vec import Word2Vec\n",
        "from sklearn.manifold import TSNE\n",
        "from sklearn.datasets import fetch_20newsgroups\n",
        "import re\n",
        "import matplotlib.pyplot as plt"
      ],
      "metadata": {
        "id": "lA8uAISfvhr9",
        "colab": {
          "base_uri": "https://localhost:8080/"
        },
        "outputId": "50015cdd-252d-45c6-9d8f-6670b7051775"
      },
      "execution_count": 6,
      "outputs": [
        {
          "output_type": "stream",
          "name": "stderr",
          "text": [
            "WARNING:root:Since the GPL-licensed package `unidecode` is not installed, using Python's `unicodedata` package which yields worse results.\n",
            "[nltk_data] Downloading package stopwords to /root/nltk_data...\n",
            "[nltk_data]   Unzipping corpora/stopwords.zip.\n"
          ]
        }
      ]
    },
    {
      "cell_type": "markdown",
      "source": [
        "### Load Data to memory"
      ],
      "metadata": {
        "id": "FaEZarY1vmcJ"
      }
    },
    {
      "cell_type": "code",
      "source": [
        "df = pd.read_json('https://raw.githubusercontent.com/Oriesdo/IRWA-2023-242142-241620-242176/main/IRWA_data_2023/Rus_Ukr_war_data.json', lines = True)\n",
        "print(\"Total number of Tweets in the corpus: {}\".format(len(df)))\n",
        "\n",
        "drive.mount('/content/drive')\n",
        "%cd /content/drive/Shareddrives/RIAW/Project/\n",
        "df_ids=pd.read_csv('IRWA_data_2023/Rus_Ukr_war_data_ids.csv', sep='\\t', header = None)\n",
        "df_ids.columns = ['doc_num', 'id']\n",
        "\n",
        "df_merged = pd.merge(df_ids, df, on='id', how='inner')"
      ],
      "metadata": {
        "id": "ghu8SHRpyHf3",
        "colab": {
          "base_uri": "https://localhost:8080/"
        },
        "outputId": "d3fed8eb-8fc5-4eaf-abf1-803f85e4d925"
      },
      "execution_count": 7,
      "outputs": [
        {
          "output_type": "stream",
          "name": "stdout",
          "text": [
            "Total number of Tweets in the corpus: 4000\n",
            "Mounted at /content/drive\n",
            "/content/drive/Shareddrives/RIAW/Project\n"
          ]
        }
      ]
    },
    {
      "cell_type": "markdown",
      "source": [
        "### Pre-processing of documents"
      ],
      "metadata": {
        "id": "DQ5qkhEizL-e"
      }
    },
    {
      "cell_type": "code",
      "source": [
        "def build_terms(line):\n",
        "    \"\"\"\n",
        "    Preprocess the article text (title + body) removing stop words, stemming,\n",
        "    transforming in lowercase and return the tokens of the text.\n",
        "\n",
        "    Argument:\n",
        "    line -- string (text) to be preprocessed\n",
        "\n",
        "    Returns:\n",
        "    line - a list of tokens corresponding to the input text after the preprocessing\n",
        "    \"\"\"\n",
        "\n",
        "    stemmer = PorterStemmer()\n",
        "    stop_words = set(stopwords.words(\"english\"))\n",
        "\n",
        "    ## START CODE\n",
        "    line = line.lower() # transform text to lowercase\n",
        "    line = re.sub(r'[!\"$%&()*+,-./:;<=>?[\\]^_`{|}~]', '', line) # remove punctuation marks\n",
        "    tokenizer = TweetTokenizer()\n",
        "    line = tokenizer.tokenize(line) # tokenize the text to get a list of terms\n",
        "    line = [x for x in line if x not in stop_words]  # eliminate the stopwords\n",
        "    line = [stemmer.stem(word) for word in line] # perform stemming\n",
        "    line = [re.sub(r'\\d+', lambda match: num2words( match.group(0), to = 'cardinal' ), word) for word in line] # convert nums to cardinal words\n",
        "    line = [clean(word, no_emoji=True) for word in line] # delete emojis\n",
        "\n",
        "    return line"
      ],
      "metadata": {
        "id": "21UOunz3zLlN"
      },
      "execution_count": 8,
      "outputs": []
    },
    {
      "cell_type": "markdown",
      "source": [
        "### Exploratory Data Analysis"
      ],
      "metadata": {
        "id": "VLyuvPKYBmLs"
      }
    },
    {
      "cell_type": "code",
      "source": [
        "# creating column with the normalized tweets\n",
        "norm = []\n",
        "for i in range(len(df_merged)):\n",
        "  norm.append(build_terms(df_merged.iloc[i]['full_text']))\n",
        "\n",
        "df_merged['normalized'] = norm"
      ],
      "metadata": {
        "id": "5KgC6ztWbDII"
      },
      "execution_count": 9,
      "outputs": []
    },
    {
      "cell_type": "code",
      "source": [
        "# AVERAGE NUMBER OF WORDS PER TWEET\n",
        "\n",
        "norm = []\n",
        "num_words = []\n",
        "for i in range(len(df_merged)): # loop to iterate through all the tweets\n",
        "  tweet = []\n",
        "  for word in df_merged.iloc[i]['normalized']:\n",
        "    tweet.append(word)\n",
        "    num_words.append(len(tweet)) # we store the length of the tweet\n",
        "  norm.append(' '.join(tweet))\n",
        "avg_words = np.average(num_words) # computing the average\n",
        "std_dev = np.std(num_words) # computing the standard deviation\n",
        "print(\"The average number of words per tweet is\", round(avg_words,2))\n",
        "print(\"With a standard deviation of\", round(std_dev,2))\n",
        "\n",
        "\n",
        "df_merged['normalized_full_tweet'] = norm"
      ],
      "metadata": {
        "id": "nQBNHq_dEOVH",
        "colab": {
          "base_uri": "https://localhost:8080/"
        },
        "outputId": "78acf655-529c-4709-80b3-28396758cf3e"
      },
      "execution_count": 10,
      "outputs": [
        {
          "output_type": "stream",
          "name": "stdout",
          "text": [
            "The average number of words per tweet is 11.68\n",
            "With a standard deviation of 7.55\n"
          ]
        }
      ]
    },
    {
      "cell_type": "code",
      "source": [
        "# TOP-5 HASHTAGS\n",
        "\n",
        "\n",
        "hashtag_dict = {} # dictionary to store the occurences of all hashtags\n",
        "for k in range(len(df_merged)): # iterate through all tweets\n",
        "  line = df_merged.iloc[k]['normalized_full_tweet']\n",
        "  for i in range(len(line)): # iterate through each letter of the tweet\n",
        "    if line[i] == '#': # if it is a hashtag\n",
        "      hashtag = ''\n",
        "      j = i\n",
        "      while j < len(line) and line[j] != ' ': # loop to iterate through all the letters after the hashtag\n",
        "        hashtag += line[j]\n",
        "        j += 1\n",
        "      if hashtag in hashtag_dict: # checking if that hashtag is already in the dictionary\n",
        "        hashtag_dict[hashtag] += 1\n",
        "      else: # if not, we add it\n",
        "        hashtag_dict[hashtag] = 1\n",
        "res = dict(sorted(hashtag_dict.items(), key = lambda x: x[1], reverse = True)[:5]) # get the top-5 most used hashtags\n",
        "print(\"The top 5 hashtags used are  \" + str(res))"
      ],
      "metadata": {
        "id": "taot8HJ72GuF",
        "colab": {
          "base_uri": "https://localhost:8080/"
        },
        "outputId": "ac3e106d-6985-4b44-e8fb-cbd76750ea0c"
      },
      "execution_count": 11,
      "outputs": [
        {
          "output_type": "stream",
          "name": "stdout",
          "text": [
            "The top 5 hashtags used are  {'#ukrainerussiawar': 4012, '#ukrain': 2163, '#ukrainewar': 1326, '#russia': 1232, '#russian': 724}\n"
          ]
        }
      ]
    },
    {
      "cell_type": "code",
      "source": [
        "# TOP-50 MOST USED WORDS WITH WORD CLOUD\n",
        "\n",
        "\n",
        "all_tweets_together = \" \".join(df_merged.iloc[:]['normalized_full_tweet']) # we put all the normalized tweets into a single sentence\n",
        "\n",
        "words_without_http = ' '.join(word for word in all_tweets_together.split() if not word.startswith('http')) # we remove the words starting with 'http'\n",
        "\n",
        "wordcloud = WordCloud(width=800, height=400, # generating the word cloud\n",
        "                      background_color='white',\n",
        "                      min_font_size=10,\n",
        "                      max_words=50).generate(words_without_http)\n",
        "\n",
        "plt.figure(figsize=(8, 8), facecolor=None) # display the word cloud\n",
        "plt.imshow(wordcloud)\n",
        "plt.axis(\"off\")\n",
        "plt.tight_layout(pad=0)\n",
        "plt.show()"
      ],
      "metadata": {
        "id": "wKTd-ieIBvnk",
        "colab": {
          "base_uri": "https://localhost:8080/",
          "height": 54
        },
        "outputId": "4642b2cc-83df-4b17-9b2b-14f214307010"
      },
      "execution_count": 12,
      "outputs": [
        {
          "output_type": "display_data",
          "data": {
            "text/plain": [
              "<Figure size 800x800 with 1 Axes>"
            ],
            "image/png": "[encoded data removed]"
          },
          "metadata": {}
        }
      ]
    },
    {
      "cell_type": "code",
      "source": [
        "# ENTITY RECOGNITION\n",
        "\n",
        "\n",
        "nlp = spacy.load('en_core_web_sm') # load the English language model\n",
        "\n",
        "text = \" \".join(df_merged.iloc[:]['normalized_full_tweet'])\n",
        "doc = nlp(text)\n",
        "entity_counter = Counter(ent.label_ for ent in doc.ents)  # extract and count named entities\n",
        "\n",
        "sorted_entities = sorted(entity_counter.items(), key=lambda x: x[1], reverse=True) # sort increasingly\n",
        "\n",
        "# we will group the entities with less than 6% into the category \"the\"\n",
        "threshold = 6  # set the threshold percentage\n",
        "total_count = sum(entity_counter.values())\n",
        "other_count = sum(count for label, count in sorted_entities if (count / total_count) < threshold / 100)\n",
        "\n",
        "# filter entities that belong to the <6% group\n",
        "filtered_entities = [(label, count) for label, count in sorted_entities if (count / total_count) >= threshold / 100]\n",
        "\n",
        "filtered_entities.append(('Other', other_count)) # add \"Other\" category to the entities\n",
        "\n",
        "entity_labels, entity_counts = zip(*filtered_entities)\n",
        "\n",
        "plt.figure(figsize=(8, 8)) # create pie chart\n",
        "plt.pie(entity_counts, labels=entity_labels, autopct='%1.1f%%', startangle=140)\n",
        "plt.title(\"Entity Category Pie Chart\")\n",
        "plt.show()"
      ],
      "metadata": {
        "id": "umMDCKjUM_HG",
        "colab": {
          "base_uri": "https://localhost:8080/",
          "height": 54
        },
        "outputId": "5ea482f7-2f0a-4158-e7e7-fb58651cb464"
      },
      "execution_count": 13,
      "outputs": [
        {
          "output_type": "display_data",
          "data": {
            "text/plain": [
              "<Figure size 800x800 with 1 Axes>"
            ],
            "image/png": "[encoded data removed]"
          },
          "metadata": {}
        }
      ]
    },
    {
      "cell_type": "code",
      "source": [
        "# VOCABULARY SIZE\n",
        "\n",
        "\n",
        "unique_vocab = {} # dictionary to store all the unique words\n",
        "for k in range(len(df)): # we iterate through all the tweets\n",
        "  line = df_merged.iloc[k]['normalized_full_tweet'].split(\" \") # we split the tweet by words\n",
        "  for word in line:\n",
        "    if word in unique_vocab: # checking if the word is in the dictionary\n",
        "      unique_vocab[word] +=1\n",
        "    else: # if not we add them\n",
        "      unique_vocab[word] = 1\n",
        "print(\"The vocabulary size of the normalized tweets is\", len(unique_vocab))\n",
        "print(\"The average number of unique words per tweet is\", round(len(unique_vocab)/len(df), 2))\n",
        "print(\"The percentage of unique words per each tweet is\", round(((len(unique_vocab)/len(df))/(round(avg_words,2)))*100, 2),\"%\")"
      ],
      "metadata": {
        "id": "7JjRZLZBFhvw",
        "colab": {
          "base_uri": "https://localhost:8080/"
        },
        "outputId": "64cbfb38-1320-40ff-9a43-dc63970bb43e"
      },
      "execution_count": 14,
      "outputs": [
        {
          "output_type": "stream",
          "name": "stdout",
          "text": [
            "The vocabulary size of the normalized tweets is 13581\n",
            "The average number of unique words per tweet is 3.4\n",
            "The percentage of unique words per each tweet is 29.07 %\n"
          ]
        }
      ]
    },
    {
      "cell_type": "code",
      "source": [
        "# HISTOGRAM OF EMOJIS USED\n",
        "\n",
        "\n",
        "# these are the codes of the list of emojis that we will look for\n",
        "emoji_pattern = re.compile(r'[\\U0001F600-\\U0001F64F\\U0001F300-\\U0001F5FF\\U0001F680-\\U0001F6FF\\U0001F700-\\U0001F77F\\U0001F780-\\U0001F7FF\\U0001F800-\\U0001F8FF\\U0001F900-\\U0001F9FF\\U0001FA00-\\U0001FA6F\\U0001FA70-\\U0001FAFF\\U0001F004-\\U0001F0CF\\U0001F170-\\U0001F251]')\n",
        "sentences_with_emojis = [] # list to store the sentences that contain emojis\n",
        "\n",
        "for i in range(len(df)): # we iterate through all the tweets so as to store the ones that contain emojis\n",
        "  tweet = df.iloc[i]['full_text']\n",
        "  tweet = tweet.split('https')\n",
        "  if re.search(emoji_pattern,tweet[0]):\n",
        "      sentences_with_emojis.append(tweet[0])\n",
        "\n",
        "text = ' '.join(sentences_with_emojis) # we create one single text with all the tweets containing emojis\n",
        "\n",
        "emojis = emoji_pattern.findall(text) # look for all the emojis in the text\n",
        "\n",
        "emoji_counts = Counter(emojis) # count the occurrences of each emoji\n",
        "\n",
        "sorted_emoji_counts = dict(sorted(emoji_counts.items(), key=lambda item: item[1], reverse=True)[:25]) # we will only pick the top 25 most used ones\n",
        "emoji_df = pd.DataFrame(list(sorted_emoji_counts.items()), columns=['Emoji', 'Count']) # create a DataFrame\n",
        "\n",
        "fig = px.histogram(emoji_df, x='Emoji', y='Count', title='Emoji Occurrences Histogram') # histogram with Plotly Express\n",
        "fig.update_layout(xaxis_title='', showlegend=False)\n",
        "fig.update_traces(marker_color='blue', selector=dict(type='bar'))\n",
        "\n",
        "fig.update_traces(text=emoji_df['Count'].astype(str) + ' occurrences of ' + emoji_df['Emoji'])\n",
        "fig.update_traces(textposition='outside')\n",
        "fig.update_layout(hovermode='x unified')\n",
        "\n",
        "# Show the interactive histogram\n",
        "fig.show()"
      ],
      "metadata": {
        "id": "rTjJsJVnn1PG",
        "colab": {
          "base_uri": "https://localhost:8080/",
          "height": 562
        },
        "outputId": "616becd0-661b-440a-9766-4fa7704cb824"
      },
      "execution_count": 15,
      "outputs": [
        {
          "output_type": "display_data",
          "data": {
            "text/html": [
              "<html>\n",
              "<head><meta charset=\"utf-8\" /></head>\n",
              "<body>\n",
              "    <div>            <script src=\"https://cdnjs.cloudflare.com/ajax/libs/mathjax/2.7.5/MathJax.js?config=TeX-AMS-MML_SVG\"></script><script type=\"text/javascript\">if (window.MathJax && window.MathJax.Hub && window.MathJax.Hub.Config) {window.MathJax.Hub.Config({SVG: {font: \"STIX-Web\"}});}</script>                <script type=\"text/javascript\">window.PlotlyConfig = {MathJaxConfig: 'local'};</script>\n",
              "        <script charset=\"utf-8\" src=\"https://cdn.plot.ly/plotly-2.24.1.min.js\"></script>                <div id=\"53459750-d8ec-4426-8d1d-2a1752b0a8c5\" class=\"plotly-graph-div\" style=\"height:525px; width:100%;\"></div>            <script type=\"text/javascript\">                                    window.PLOTLYENV=window.PLOTLYENV || {};                                    if (document.getElementById(\"53459750-d8ec-4426-8d1d-2a1752b0a8c5\")) {                    Plotly.newPlot(                        \"53459750-d8ec-4426-8d1d-2a1752b0a8c5\",                        [{\"alignmentgroup\":\"True\",\"bingroup\":\"x\",\"histfunc\":\"sum\",\"hovertemplate\":\"Emoji=%{x}\\u003cbr\\u003esum of Count=%{y}\\u003cextra\\u003e\\u003c\\u002fextra\\u003e\",\"legendgroup\":\"\",\"marker\":{\"color\":\"#636efa\",\"pattern\":{\"shape\":\"\"}},\"name\":\"\",\"offsetgroup\":\"\",\"orientation\":\"v\",\"showlegend\":false,\"x\":[\"\\ud83c\\uddfa\",\"\\ud83c\\udde6\",\"\\ud83c\\uddf7\",\"\\ud83d\\udd25\",\"\\ud83c\\uddea\",\"\\ud83c\\uddf8\",\"\\ud83c\\uddec\",\"\\ud83d\\udc47\",\"\\ud83d\\udcaa\",\"\\ud83d\\ude02\",\"\\ud83c\\udf3b\",\"\\ud83e\\ude96\",\"\\ud83c\\udde7\",\"\\ud83e\\udd23\",\"\\ud83d\\ude80\",\"\\ud83d\\udd34\",\"\\ud83d\\udca5\",\"\\ud83d\\udee1\",\"\\ud83d\\uddd1\",\"\\ud83c\\uddf9\",\"\\ud83d\\udc99\",\"\\ud83d\\udea8\",\"\\ud83d\\udc80\",\"\\ud83d\\udc9b\",\"\\ud83d\\udccd\"],\"xaxis\":\"x\",\"y\":[702,390,224,94,57,55,43,38,37,37,36,33,32,30,24,23,21,18,18,18,17,16,16,16,16],\"yaxis\":\"y\",\"type\":\"histogram\",\"text\":[\"702 occurrences of \\ud83c\\uddfa\",\"390 occurrences of \\ud83c\\udde6\",\"224 occurrences of \\ud83c\\uddf7\",\"94 occurrences of \\ud83d\\udd25\",\"57 occurrences of \\ud83c\\uddea\",\"55 occurrences of \\ud83c\\uddf8\",\"43 occurrences of \\ud83c\\uddec\",\"38 occurrences of \\ud83d\\udc47\",\"37 occurrences of \\ud83d\\udcaa\",\"37 occurrences of \\ud83d\\ude02\",\"36 occurrences of \\ud83c\\udf3b\",\"33 occurrences of \\ud83e\\ude96\",\"32 occurrences of \\ud83c\\udde7\",\"30 occurrences of \\ud83e\\udd23\",\"24 occurrences of \\ud83d\\ude80\",\"23 occurrences of \\ud83d\\udd34\",\"21 occurrences of \\ud83d\\udca5\",\"18 occurrences of \\ud83d\\udee1\",\"18 occurrences of \\ud83d\\uddd1\",\"18 occurrences of \\ud83c\\uddf9\",\"17 occurrences of \\ud83d\\udc99\",\"16 occurrences of \\ud83d\\udea8\",\"16 occurrences of \\ud83d\\udc80\",\"16 occurrences of \\ud83d\\udc9b\",\"16 occurrences of \\ud83d\\udccd\"],\"textposition\":\"outside\"}],                        {\"template\":{\"data\":{\"histogram2dcontour\":[{\"type\":\"histogram2dcontour\",\"colorbar\":{\"outlinewidth\":0,\"ticks\":\"\"},\"colorscale\":[[0.0,\"#0d0887\"],[0.1111111111111111,\"#46039f\"],[0.2222222222222222,\"#7201a8\"],[0.3333333333333333,\"#9c179e\"],[0.4444444444444444,\"#bd3786\"],[0.5555555555555556,\"#d8576b\"],[0.6666666666666666,\"#ed7953\"],[0.7777777777777778,\"#fb9f3a\"],[0.8888888888888888,\"#fdca26\"],[1.0,\"#f0f921\"]]}],\"choropleth\":[{\"type\":\"choropleth\",\"colorbar\":{\"outlinewidth\":0,\"ticks\":\"\"}}],\"histogram2d\":[{\"type\":\"histogram2d\",\"colorbar\":{\"outlinewidth\":0,\"ticks\":\"\"},\"colorscale\":[[0.0,\"#0d0887\"],[0.1111111111111111,\"#46039f\"],[0.2222222222222222,\"#7201a8\"],[0.3333333333333333,\"#9c179e\"],[0.4444444444444444,\"#bd3786\"],[0.5555555555555556,\"#d8576b\"],[0.6666666666666666,\"#ed7953\"],[0.7777777777777778,\"#fb9f3a\"],[0.8888888888888888,\"#fdca26\"],[1.0,\"#f0f921\"]]}],\"heatmap\":[{\"type\":\"heatmap\",\"colorbar\":{\"outlinewidth\":0,\"ticks\":\"\"},\"colorscale\":[[0.0,\"#0d0887\"],[0.1111111111111111,\"#46039f\"],[0.2222222222222222,\"#7201a8\"],[0.3333333333333333,\"#9c179e\"],[0.4444444444444444,\"#bd3786\"],[0.5555555555555556,\"#d8576b\"],[0.6666666666666666,\"#ed7953\"],[0.7777777777777778,\"#fb9f3a\"],[0.8888888888888888,\"#fdca26\"],[1.0,\"#f0f921\"]]}],\"heatmapgl\":[{\"type\":\"heatmapgl\",\"colorbar\":{\"outlinewidth\":0,\"ticks\":\"\"},\"colorscale\":[[0.0,\"#0d0887\"],[0.1111111111111111,\"#46039f\"],[0.2222222222222222,\"#7201a8\"],[0.3333333333333333,\"#9c179e\"],[0.4444444444444444,\"#bd3786\"],[0.5555555555555556,\"#d8576b\"],[0.6666666666666666,\"#ed7953\"],[0.7777777777777778,\"#fb9f3a\"],[0.8888888888888888,\"#fdca26\"],[1.0,\"#f0f921\"]]}],\"contourcarpet\":[{\"type\":\"contourcarpet\",\"colorbar\":{\"outlinewidth\":0,\"ticks\":\"\"}}],\"contour\":[{\"type\":\"contour\",\"colorbar\":{\"outlinewidth\":0,\"ticks\":\"\"},\"colorscale\":[[0.0,\"#0d0887\"],[0.1111111111111111,\"#46039f\"],[0.2222222222222222,\"#7201a8\"],[0.3333333333333333,\"#9c179e\"],[0.4444444444444444,\"#bd3786\"],[0.5555555555555556,\"#d8576b\"],[0.6666666666666666,\"#ed7953\"],[0.7777777777777778,\"#fb9f3a\"],[0.8888888888888888,\"#fdca26\"],[1.0,\"#f0f921\"]]}],\"surface\":[{\"type\":\"surface\",\"colorbar\":{\"outlinewidth\":0,\"ticks\":\"\"},\"colorscale\":[[0.0,\"#0d0887\"],[0.1111111111111111,\"#46039f\"],[0.2222222222222222,\"#7201a8\"],[0.3333333333333333,\"#9c179e\"],[0.4444444444444444,\"#bd3786\"],[0.5555555555555556,\"#d8576b\"],[0.6666666666666666,\"#ed7953\"],[0.7777777777777778,\"#fb9f3a\"],[0.8888888888888888,\"#fdca26\"],[1.0,\"#f0f921\"]]}],\"mesh3d\":[{\"type\":\"mesh3d\",\"colorbar\":{\"outlinewidth\":0,\"ticks\":\"\"}}],\"scatter\":[{\"fillpattern\":{\"fillmode\":\"overlay\",\"size\":10,\"solidity\":0.2},\"type\":\"scatter\"}],\"parcoords\":[{\"type\":\"parcoords\",\"line\":{\"colorbar\":{\"outlinewidth\":0,\"ticks\":\"\"}}}],\"scatterpolargl\":[{\"type\":\"scatterpolargl\",\"marker\":{\"colorbar\":{\"outlinewidth\":0,\"ticks\":\"\"}}}],\"bar\":[{\"error_x\":{\"color\":\"#2a3f5f\"},\"error_y\":{\"color\":\"#2a3f5f\"},\"marker\":{\"line\":{\"color\":\"#E5ECF6\",\"width\":0.5},\"pattern\":{\"fillmode\":\"overlay\",\"size\":10,\"solidity\":0.2}},\"type\":\"bar\"}],\"scattergeo\":[{\"type\":\"scattergeo\",\"marker\":{\"colorbar\":{\"outlinewidth\":0,\"ticks\":\"\"}}}],\"scatterpolar\":[{\"type\":\"scatterpolar\",\"marker\":{\"colorbar\":{\"outlinewidth\":0,\"ticks\":\"\"}}}],\"histogram\":[{\"marker\":{\"pattern\":{\"fillmode\":\"overlay\",\"size\":10,\"solidity\":0.2}},\"type\":\"histogram\"}],\"scattergl\":[{\"type\":\"scattergl\",\"marker\":{\"colorbar\":{\"outlinewidth\":0,\"ticks\":\"\"}}}],\"scatter3d\":[{\"type\":\"scatter3d\",\"line\":{\"colorbar\":{\"outlinewidth\":0,\"ticks\":\"\"}},\"marker\":{\"colorbar\":{\"outlinewidth\":0,\"ticks\":\"\"}}}],\"scattermapbox\":[{\"type\":\"scattermapbox\",\"marker\":{\"colorbar\":{\"outlinewidth\":0,\"ticks\":\"\"}}}],\"scatterternary\":[{\"type\":\"scatterternary\",\"marker\":{\"colorbar\":{\"outlinewidth\":0,\"ticks\":\"\"}}}],\"scattercarpet\":[{\"type\":\"scattercarpet\",\"marker\":{\"colorbar\":{\"outlinewidth\":0,\"ticks\":\"\"}}}],\"carpet\":[{\"aaxis\":{\"endlinecolor\":\"#2a3f5f\",\"gridcolor\":\"white\",\"linecolor\":\"white\",\"minorgridcolor\":\"white\",\"startlinecolor\":\"#2a3f5f\"},\"baxis\":{\"endlinecolor\":\"#2a3f5f\",\"gridcolor\":\"white\",\"linecolor\":\"white\",\"minorgridcolor\":\"white\",\"startlinecolor\":\"#2a3f5f\"},\"type\":\"carpet\"}],\"table\":[{\"cells\":{\"fill\":{\"color\":\"#EBF0F8\"},\"line\":{\"color\":\"white\"}},\"header\":{\"fill\":{\"color\":\"#C8D4E3\"},\"line\":{\"color\":\"white\"}},\"type\":\"table\"}],\"barpolar\":[{\"marker\":{\"line\":{\"color\":\"#E5ECF6\",\"width\":0.5},\"pattern\":{\"fillmode\":\"overlay\",\"size\":10,\"solidity\":0.2}},\"type\":\"barpolar\"}],\"pie\":[{\"automargin\":true,\"type\":\"pie\"}]},\"layout\":{\"autotypenumbers\":\"strict\",\"colorway\":[\"#636efa\",\"#EF553B\",\"#00cc96\",\"#ab63fa\",\"#FFA15A\",\"#19d3f3\",\"#FF6692\",\"#B6E880\",\"#FF97FF\",\"#FECB52\"],\"font\":{\"color\":\"#2a3f5f\"},\"hovermode\":\"closest\",\"hoverlabel\":{\"align\":\"left\"},\"paper_bgcolor\":\"white\",\"plot_bgcolor\":\"#E5ECF6\",\"polar\":{\"bgcolor\":\"#E5ECF6\",\"angularaxis\":{\"gridcolor\":\"white\",\"linecolor\":\"white\",\"ticks\":\"\"},\"radialaxis\":{\"gridcolor\":\"white\",\"linecolor\":\"white\",\"ticks\":\"\"}},\"ternary\":{\"bgcolor\":\"#E5ECF6\",\"aaxis\":{\"gridcolor\":\"white\",\"linecolor\":\"white\",\"ticks\":\"\"},\"baxis\":{\"gridcolor\":\"white\",\"linecolor\":\"white\",\"ticks\":\"\"},\"caxis\":{\"gridcolor\":\"white\",\"linecolor\":\"white\",\"ticks\":\"\"}},\"coloraxis\":{\"colorbar\":{\"outlinewidth\":0,\"ticks\":\"\"}},\"colorscale\":{\"sequential\":[[0.0,\"#0d0887\"],[0.1111111111111111,\"#46039f\"],[0.2222222222222222,\"#7201a8\"],[0.3333333333333333,\"#9c179e\"],[0.4444444444444444,\"#bd3786\"],[0.5555555555555556,\"#d8576b\"],[0.6666666666666666,\"#ed7953\"],[0.7777777777777778,\"#fb9f3a\"],[0.8888888888888888,\"#fdca26\"],[1.0,\"#f0f921\"]],\"sequentialminus\":[[0.0,\"#0d0887\"],[0.1111111111111111,\"#46039f\"],[0.2222222222222222,\"#7201a8\"],[0.3333333333333333,\"#9c179e\"],[0.4444444444444444,\"#bd3786\"],[0.5555555555555556,\"#d8576b\"],[0.6666666666666666,\"#ed7953\"],[0.7777777777777778,\"#fb9f3a\"],[0.8888888888888888,\"#fdca26\"],[1.0,\"#f0f921\"]],\"diverging\":[[0,\"#8e0152\"],[0.1,\"#c51b7d\"],[0.2,\"#de77ae\"],[0.3,\"#f1b6da\"],[0.4,\"#fde0ef\"],[0.5,\"#f7f7f7\"],[0.6,\"#e6f5d0\"],[0.7,\"#b8e186\"],[0.8,\"#7fbc41\"],[0.9,\"#4d9221\"],[1,\"#276419\"]]},\"xaxis\":{\"gridcolor\":\"white\",\"linecolor\":\"white\",\"ticks\":\"\",\"title\":{\"standoff\":15},\"zerolinecolor\":\"white\",\"automargin\":true,\"zerolinewidth\":2},\"yaxis\":{\"gridcolor\":\"white\",\"linecolor\":\"white\",\"ticks\":\"\",\"title\":{\"standoff\":15},\"zerolinecolor\":\"white\",\"automargin\":true,\"zerolinewidth\":2},\"scene\":{\"xaxis\":{\"backgroundcolor\":\"#E5ECF6\",\"gridcolor\":\"white\",\"linecolor\":\"white\",\"showbackground\":true,\"ticks\":\"\",\"zerolinecolor\":\"white\",\"gridwidth\":2},\"yaxis\":{\"backgroundcolor\":\"#E5ECF6\",\"gridcolor\":\"white\",\"linecolor\":\"white\",\"showbackground\":true,\"ticks\":\"\",\"zerolinecolor\":\"white\",\"gridwidth\":2},\"zaxis\":{\"backgroundcolor\":\"#E5ECF6\",\"gridcolor\":\"white\",\"linecolor\":\"white\",\"showbackground\":true,\"ticks\":\"\",\"zerolinecolor\":\"white\",\"gridwidth\":2}},\"shapedefaults\":{\"line\":{\"color\":\"#2a3f5f\"}},\"annotationdefaults\":{\"arrowcolor\":\"#2a3f5f\",\"arrowhead\":0,\"arrowwidth\":1},\"geo\":{\"bgcolor\":\"white\",\"landcolor\":\"#E5ECF6\",\"subunitcolor\":\"white\",\"showland\":true,\"showlakes\":true,\"lakecolor\":\"white\"},\"title\":{\"x\":0.05},\"mapbox\":{\"style\":\"light\"}}},\"xaxis\":{\"anchor\":\"y\",\"domain\":[0.0,1.0],\"title\":{\"text\":\"\"}},\"yaxis\":{\"anchor\":\"x\",\"domain\":[0.0,1.0],\"title\":{\"text\":\"sum of Count\"}},\"legend\":{\"tracegroupgap\":0},\"title\":{\"text\":\"Emoji Occurrences Histogram\"},\"barmode\":\"relative\",\"showlegend\":false,\"hovermode\":\"x unified\"},                        {\"responsive\": true}                    ).then(function(){\n",
              "                            \n",
              "var gd = document.getElementById('53459750-d8ec-4426-8d1d-2a1752b0a8c5');\n",
              "var x = new MutationObserver(function (mutations, observer) {{\n",
              "        var display = window.getComputedStyle(gd).display;\n",
              "        if (!display || display === 'none') {{\n",
              "            console.log([gd, 'removed!']);\n",
              "            Plotly.purge(gd);\n",
              "            observer.disconnect();\n",
              "        }}\n",
              "}});\n",
              "\n",
              "// Listen for the removal of the full notebook cells\n",
              "var notebookContainer = gd.closest('#notebook-container');\n",
              "if (notebookContainer) {{\n",
              "    x.observe(notebookContainer, {childList: true});\n",
              "}}\n",
              "\n",
              "// Listen for the clearing of the current output cell\n",
              "var outputEl = gd.closest('.output');\n",
              "if (outputEl) {{\n",
              "    x.observe(outputEl, {childList: true});\n",
              "}}\n",
              "\n",
              "                        })                };                            </script>        </div>\n",
              "</body>\n",
              "</html>"
            ]
          },
          "metadata": {}
        }
      ]
    },
    {
      "cell_type": "code",
      "source": [
        "# TOP-5 MOST MENTIONED COUNTRIES\n",
        "\n",
        "\n",
        "countries = [\n",
        "    \"Afghanistan\", \"Albania\", \"Algeria\", \"Andorra\", \"Angola\", \"Antigua and Barbuda\",\n",
        "    \"Argentina\", \"Armenia\", \"Australia\", \"Austria\", \"Azerbaijan\", \"Bahamas\",\n",
        "    \"Bahrain\", \"Bangladesh\", \"Barbados\", \"Belarus\", \"Belgium\", \"Belize\", \"Benin\",\n",
        "    \"Bhutan\", \"Bolivia\", \"Bosnia and Herzegovina\", \"Botswana\", \"Brazil\", \"Brunei\",\n",
        "    \"Bulgaria\", \"Burkina Faso\", \"Burundi\", \"Cabo Verde\", \"Cambodia\", \"Cameroon\",\n",
        "    \"Canada\", \"Central African Republic\", \"Chad\", \"Chile\", \"China\", \"Colombia\",\n",
        "    \"Comoros\", \"Congo\", \"Costa Rica\", \"Cote d'Ivoire\", \"Croatia\", \"Cuba\", \"Cyprus\",\n",
        "    \"Czechia\", \"Denmark\", \"Djibouti\", \"Dominica\", \"Dominican Republic\", \"Ecuador\",\n",
        "    \"Egypt\", \"El Salvador\", \"Equatorial Guinea\", \"Eritrea\", \"Estonia\", \"Eswatini\",\n",
        "    \"Ethiopia\", \"Fiji\", \"Finland\", \"France\", \"Gabon\", \"Gambia\", \"Georgia\", \"Germany\",\n",
        "    \"Ghana\", \"Greece\", \"Grenada\", \"Guatemala\", \"Guinea\", \"Guinea-Bissau\", \"Guyana\",\n",
        "    \"Haiti\", \"Honduras\", \"Hungary\", \"Iceland\", \"India\", \"Indonesia\", \"Iran\", \"Iraq\",\n",
        "    \"Ireland\", \"Israel\", \"Italy\", \"Jamaica\", \"Japan\", \"Jordan\", \"Kazakhstan\", \"Kenya\",\n",
        "    \"Kiribati\", \"Korea, North\", \"Korea, South\", \"Kosovo\", \"Kuwait\", \"Kyrgyzstan\",\n",
        "    \"Laos\", \"Latvia\", \"Lebanon\", \"Lesotho\", \"Liberia\", \"Libya\", \"Liechtenstein\",\n",
        "    \"Lithuania\", \"Luxembourg\", \"Madagascar\", \"Malawi\", \"Malaysia\", \"Maldives\",\n",
        "    \"Mali\", \"Malta\", \"Marshall Islands\", \"Mauritania\", \"Mauritius\", \"Mexico\",\n",
        "    \"Micronesia\", \"Moldova\", \"Monaco\", \"Mongolia\", \"Montenegro\", \"Morocco\",\n",
        "    \"Mozambique\", \"Myanmar\", \"Namibia\", \"Nauru\", \"Nepal\", \"Netherlands\",\n",
        "    \"New Zealand\", \"Nicaragua\", \"Niger\", \"Nigeria\", \"North Macedonia\", \"Norway\",\n",
        "    \"Oman\", \"Pakistan\", \"Palau\", \"Palestine\", \"Panama\", \"Papua New Guinea\",\n",
        "    \"Paraguay\", \"Peru\", \"Philippines\", \"Poland\", \"Portugal\", \"Qatar\", \"Romania\",\n",
        "    \"Russia\", \"Rwanda\", \"Saint Kitts and Nevis\", \"Saint Lucia\", \"Saint Vincent and the Grenadines\",\n",
        "    \"Samoa\", \"San Marino\", \"Sao Tome and Principe\", \"Saudi Arabia\", \"Senegal\",\n",
        "    \"Serbia\", \"Seychelles\", \"Sierra Leone\", \"Singapore\", \"Slovakia\", \"Slovenia\",\n",
        "    \"Solomon Islands\", \"Somalia\", \"South Africa\", \"South Sudan\", \"Spain\", \"Sri Lanka\",\n",
        "    \"Sudan\", \"Suriname\", \"Sweden\", \"Switzerland\", \"Syria\", \"Taiwan\", \"Tajikistan\",\n",
        "    \"Tanzania\", \"Thailand\", \"Timor-Leste\", \"Togo\", \"Tonga\", \"Trinidad and Tobago\",\n",
        "    \"Tunisia\", \"Turkey\", \"Turkmenistan\", \"Tuvalu\", \"Uganda\", \"Ukraine\", \"United Arab Emirates\",\n",
        "    \"United Kingdom\", \"United States\", \"Uruguay\", \"Uzbekistan\", \"Vanuatu\", \"Vatican City\",\n",
        "    \"Venezuela\", \"Vietnam\", \"Yemen\", \"Zambia\", \"Zimbabwe\"\n",
        "]\n",
        "\n",
        "countries_dict = {} # dictionary to store all the countries appearing\n",
        "for i in range(len(df)): # loop to iterate through all the tweets\n",
        "  line = df.iloc[i]['full_text']\n",
        "  s=line.split(\" \") # we split the tweets in words\n",
        "  for w in s: # we iterate for each word in the sentence\n",
        "    if w in countries: # if the word is a country\n",
        "      if w in countries_dict: # we check if the country is already stored in the dictionary\n",
        "        countries_dict[w] += 1\n",
        "      else: # if not we add them\n",
        "        countries_dict[w] = 1\n",
        "res = dict(sorted(countries_dict.items(), key = lambda x: x[1], reverse = True)[:5]) # we get the top-5 countries\n",
        "print(\"The top 5 countries used are  \" + str(res))"
      ],
      "metadata": {
        "id": "-vc35TsSEkBI",
        "colab": {
          "base_uri": "https://localhost:8080/"
        },
        "outputId": "d23eae10-3653-431e-b938-481f71c8f569"
      },
      "execution_count": 16,
      "outputs": [
        {
          "output_type": "stream",
          "name": "stdout",
          "text": [
            "The top 5 countries used are  {'Ukraine': 537, 'Russia': 323, 'Germany': 25, 'Belarus': 22, 'Finland': 13}\n"
          ]
        }
      ]
    },
    {
      "cell_type": "code",
      "source": [
        "# TOP-5 MOST ACTIVE USERS\n",
        "\n",
        "\n",
        "tweets_by={} # dictionary to store the users that tweet\n",
        "for k in range(len(df)): # iterate through all the tweets\n",
        "  line = df_merged.iloc[k]['normalized_full_tweet']\n",
        "  for i in range(len(line)): # iterate through all the letters\n",
        "    if line[i] == '@': # if a user appears\n",
        "      arr = ''\n",
        "      j = i\n",
        "      while j < len(line) and line[j] != ' ': # we iterate through the remaining words to get the name\n",
        "        arr += line[j]\n",
        "        j += 1\n",
        "      if arr in tweets_by: # checking if the user is already in the dictionary\n",
        "        tweets_by[arr] += 1\n",
        "      else: # if not we add them\n",
        "        tweets_by[arr] = 1\n",
        "res = dict(sorted(tweets_by.items(), key = lambda x: x[1], reverse = True)[:5]) # get the top-5 users that have posted the most\n",
        "print(\"The top 5 most active users are  \" + str(res))"
      ],
      "metadata": {
        "id": "5jV5xFmE4Ya_",
        "colab": {
          "base_uri": "https://localhost:8080/"
        },
        "outputId": "da7cfb5b-6ff8-4888-f8d5-521269186798"
      },
      "execution_count": 17,
      "outputs": [
        {
          "output_type": "stream",
          "name": "stdout",
          "text": [
            "The top 5 most active users are  {'@zelenskyyua': 44, '@youtub': 40, '@potu': 31, '@eucommiss': 22, '@mfarussia': 22}\n"
          ]
        }
      ]
    },
    {
      "cell_type": "markdown",
      "source": [
        "## Part 2"
      ],
      "metadata": {
        "id": "w1flOFUiMJd1"
      }
    },
    {
      "cell_type": "code",
      "source": [
        "#now we also remove # and @ when doing the pre-processing of the tweets\n",
        "\n",
        "def build_terms(line):\n",
        "    \"\"\"\n",
        "    Preprocess the article text (title + body) removing stop words, stemming,\n",
        "    transforming in lowercase and return the tokens of the text.\n",
        "\n",
        "    Argument:\n",
        "    line -- string (text) to be preprocessed\n",
        "\n",
        "    Returns:\n",
        "    line - a list of tokens corresponding to the input text after the preprocessing\n",
        "    \"\"\"\n",
        "\n",
        "    stemmer = PorterStemmer()\n",
        "    stop_words = set(stopwords.words(\"english\"))\n",
        "\n",
        "    ## START CODE\n",
        "    line = line.lower() # transform text to lowercase\n",
        "    line = re.sub(r'[!\"$%&()@#*+,-./:;<=>?[\\]^_`{|}~]', '', line) # remove punctuation marks\n",
        "    tokenizer = TweetTokenizer()\n",
        "    line = tokenizer.tokenize(line) # tokenize the text to get a list of terms\n",
        "    line = [x for x in line if x not in stop_words]  # eliminate the stopwords\n",
        "    line = [stemmer.stem(word) for word in line] # perform stemming\n",
        "    line = [re.sub(r'\\d+', lambda match: num2words( match.group(0), to = 'cardinal' ), word) for word in line] # convert nums to cardinal words\n",
        "    line = [clean(word, no_emoji=True) for word in line] # delete emojis\n",
        "\n",
        "    return line"
      ],
      "metadata": {
        "id": "mxgmkFx4uXjn"
      },
      "execution_count": 18,
      "outputs": []
    },
    {
      "cell_type": "code",
      "source": [
        "# creating column with the normalized tweets\n",
        "norm = []\n",
        "for i in range(len(df_merged)):\n",
        "  norm.append(build_terms(df_merged.iloc[i]['full_text']))\n",
        "\n",
        "df_merged['really_normalized'] = norm"
      ],
      "metadata": {
        "id": "mL2IuIk5u1s6"
      },
      "execution_count": 19,
      "outputs": []
    },
    {
      "cell_type": "markdown",
      "source": [
        "### Indexing"
      ],
      "metadata": {
        "id": "xqx7QVIjM5Ek"
      }
    },
    {
      "cell_type": "code",
      "source": [
        "def create_index(lines):\n",
        "    \"\"\"\n",
        "    Implement the inverted index\n",
        "\n",
        "    Argument:\n",
        "    lines -- collection of Wikipedia articles\n",
        "\n",
        "    Returns:\n",
        "    index - the inverted index (implemented through a Python dictionary) containing terms as keys and the corresponding\n",
        "    list of documents where these keys appears in (and the positions) as values.\n",
        "    \"\"\"\n",
        "\n",
        "    index = defaultdict(list)\n",
        "    tweet_index = {}  # dictionary to map page titles to page ids\n",
        "    for i in range(len(lines)):  # Remember, lines contain all documents: article-id | article-title | article-body\n",
        "\n",
        "        terms = build_terms(lines.iloc[i]['full_text']) # page_title + page_text\n",
        "        tweet_index[lines.iloc[i]['id']] = lines.iloc[i]['id']\n",
        "\n",
        "        current_tweet_index = {}\n",
        "\n",
        "        for position, term in enumerate(terms): # terms contains page_title + page_text. Loop over all terms\n",
        "            try:\n",
        "\n",
        "                current_tweet_index[term][1].append(position)\n",
        "            except:\n",
        "                current_tweet_index[term]=[lines.iloc[i]['id'], array('I',[position])] #'I' indicates unsigned int (int in Python)\n",
        "\n",
        "        for term_page, posting_page in current_tweet_index.items():\n",
        "            index[term_page].append(posting_page)\n",
        "\n",
        "\n",
        "    return index, tweet_index"
      ],
      "metadata": {
        "id": "WbN0MWavMKk0"
      },
      "execution_count": 20,
      "outputs": []
    },
    {
      "cell_type": "code",
      "source": [
        "import time\n",
        "start_time = time.time()\n",
        "index, tweet_index = create_index(df_merged[['id','full_text']].copy())\n",
        "print(\"Total time to create the index: {} seconds\".format(np.round(time.time() - start_time, 2)))"
      ],
      "metadata": {
        "id": "22fDAS2n42lo",
        "colab": {
          "base_uri": "https://localhost:8080/"
        },
        "outputId": "a61db3aa-d7fe-4575-ade7-a1ae2b118dbd"
      },
      "execution_count": 21,
      "outputs": [
        {
          "output_type": "stream",
          "name": "stdout",
          "text": [
            "Total time to create the index: 21.32 seconds\n"
          ]
        }
      ]
    },
    {
      "cell_type": "code",
      "source": [
        "def search(query, index):\n",
        "    \"\"\"\n",
        "    The output is the list of documents that contain any of the query terms.\n",
        "    So, we will get the list of documents for each query term, and take the union of them.\n",
        "    \"\"\"\n",
        "    query = build_terms(query)\n",
        "    docs = set()\n",
        "    for term in query:\n",
        "    ## START DODE\n",
        "        try:\n",
        "            # store in term_docs the ids of the docs that contain \"term\"\n",
        "            term_docs=[posting[0] for posting in index[term]]\n",
        "            # docs = docs Union term_docs\n",
        "            docs |= set(term_docs)\n",
        "        except:\n",
        "            #term is not in index\n",
        "            pass\n",
        "    docs = list(docs)\n",
        "    if len(docs) == 0:\n",
        "        print(\"No results found, try again\")\n",
        "        query = input()\n",
        "        docs = search(query, index)\n",
        "    return docs"
      ],
      "metadata": {
        "id": "nFy2DnpSi9u_"
      },
      "execution_count": 22,
      "outputs": []
    },
    {
      "cell_type": "code",
      "source": [
        "'''\n",
        "print(\"Insert your query (i.e.: Computer Science):\\n\")\n",
        "query = input()\n",
        "docs = search(query, index)\n",
        "top = 10\n",
        "\n",
        "print(\"\\n======================\\nSample of {} results out of {} for the searched query:\\n\".format(min(top, len(docs)), len(docs)))\n",
        "\n",
        "for d_id in docs[:top]:\n",
        "  print(\"Document number is\", [(df_merged['doc_num'][i]) for i in range(len(df)) if df_merged['id'][i] == d_id])\n",
        "  print(\"and the tweet is\", [(df_merged['full_text'][i]) for i in range(len(df)) if df_merged['id'][i] == d_id])'''"
      ],
      "metadata": {
        "id": "IH5XKml3iInH",
        "colab": {
          "base_uri": "https://localhost:8080/",
          "height": 71
        },
        "outputId": "749ead6a-d31d-4c84-f81c-2e5ad2a5de0e"
      },
      "execution_count": 23,
      "outputs": [
        {
          "output_type": "execute_result",
          "data": {
            "text/plain": [
              "'\\nprint(\"Insert your query (i.e.: Computer Science):\\n\")\\nquery = input()\\ndocs = search(query, index)\\ntop = 10\\n\\nprint(\"\\n======================\\nSample of {} results out of {} for the searched query:\\n\".format(min(top, len(docs)), len(docs)))\\n\\nfor d_id in docs[:top]:\\n  print(\"Document number is\", [(df_merged[\\'doc_num\\'][i]) for i in range(len(df)) if df_merged[\\'id\\'][i] == d_id])\\n  print(\"and the tweet is\", [(df_merged[\\'full_text\\'][i]) for i in range(len(df)) if df_merged[\\'id\\'][i] == d_id])'"
            ],
            "application/vnd.google.colaboratory.intrinsic+json": {
              "type": "string"
            }
          },
          "metadata": {},
          "execution_count": 23
        }
      ]
    },
    {
      "cell_type": "code",
      "source": [
        "def create_index_tfidf(lines, num_documents):\n",
        "    \"\"\"\n",
        "    Implement the inverted index and compute tf, df and idf\n",
        "\n",
        "    Argument:\n",
        "    lines -- collection of Wikipedia articles\n",
        "    num_documents -- total number of documents\n",
        "\n",
        "    Returns:\n",
        "    index - the inverted index (implemented through a Python dictionary) containing terms as keys and the corresponding\n",
        "    list of document these keys appears in (and the positions) as values.\n",
        "    tf - normalized term frequency for each term in each document\n",
        "    df - number of documents each term appear in\n",
        "    idf - inverse document frequency of each term\n",
        "    \"\"\"\n",
        "\n",
        "    index = defaultdict(list)\n",
        "    tf = defaultdict(list)  # term frequencies of terms in documents (documents in the same order as in the main index)\n",
        "    df = defaultdict(int)  # document frequencies of terms in the corpus\n",
        "    idf = defaultdict(float)\n",
        "    title_index = defaultdict(str)\n",
        "\n",
        "    for i in range(len(lines)):  # Remember, lines contain all documents: article-id | article-title | article-body\n",
        "\n",
        "        terms = build_terms(lines.iloc[i]['full_text']) # page_title + page_text\n",
        "        tweet_index[lines.iloc[i]['id']] = lines.iloc[i]['id']\n",
        "\n",
        "        ## ===============================================================\n",
        "        ## create the index for the **current page** and store it in current_page_index\n",
        "        ## current_page_index ==> { ‘term1’: [current_doc, [list of positions]], ...,‘term_n’: [current_doc, [list of positions]]}\n",
        "\n",
        "        ## Example: if the curr_doc has id 1 and his text is\n",
        "        ##\"web retrieval information retrieval\":\n",
        "\n",
        "        ## current_page_index ==> { ‘web’: [1, [0]], ‘retrieval’: [1, [1,4]], ‘information’: [1, [2]]}\n",
        "\n",
        "        ## the term ‘web’ appears in document 1 in positions 0,\n",
        "        ## the term ‘retrieval’ appears in document 1 in positions 1 and 4\n",
        "        ## ===============================================================\n",
        "\n",
        "        current_tweet_index = {}\n",
        "\n",
        "        for position, term in enumerate(terms):  ## terms contains page_title + page_text\n",
        "            try:\n",
        "                # if the term is already in the dict append the position to the corresponding list\n",
        "                current_tweet_index[term][1].append(position)\n",
        "            except:\n",
        "                # Add the new term as dict key and initialize the array of positions and add the position\n",
        "                current_tweet_index[term]=[lines.iloc[i]['id'], array('I',[position])] #'I' indicates unsigned int (int in Python)\n",
        "\n",
        "\n",
        "        #normalize term frequencies\n",
        "        # Compute the denominator to normalize term frequencies (formula 2 above)\n",
        "        # norm is the same for all terms of a document.\n",
        "        norm = 0\n",
        "        for term, posting in current_tweet_index.items():\n",
        "            # posting will contain the list of positions for current term in current document.\n",
        "            # posting ==> [current_doc, [list of positions]]\n",
        "            # you can use it to infer the frequency of current term.\n",
        "            norm += len(posting[1]) ** 2\n",
        "        norm = math.sqrt(norm)\n",
        "\n",
        "        # calculate the tf(dividing the term frequency by the above computed norm) and df weights\n",
        "        for term, posting in current_tweet_index.items():\n",
        "            # append the tf for current term (tf = term frequency in current doc/norm)\n",
        "            tf[term].append(np.round(len(posting[1])/norm,4)) ## SEE formula (1) above\n",
        "            #increment the document frequency of current term (number of documents containing the current term)\n",
        "            df[term] += 1 # increment DF for current term\n",
        "\n",
        "        #merge the current page index with the main index\n",
        "        for term_page, posting_page in current_tweet_index.items():\n",
        "            index[term_page].append(posting_page)\n",
        "\n",
        "        # Compute IDF following the formula (3) above. HINT: use np.log\n",
        "        for term in df:\n",
        "            idf[term] = np.round(np.log(float(num_documents/df[term])), 4)\n",
        "\n",
        "    return index, tf, df, idf"
      ],
      "metadata": {
        "id": "scBsLSVAjQwB"
      },
      "execution_count": 24,
      "outputs": []
    },
    {
      "cell_type": "code",
      "source": [
        "start_time = time.time()\n",
        "num_documents = len(df_merged)\n",
        "index, tf, df, idf = create_index_tfidf(df_merged[['id','full_text']].copy(), num_documents)\n",
        "print(\"Total time to create the index: {} seconds\" .format(np.round(time.time() - start_time, 2)))"
      ],
      "metadata": {
        "id": "FsmQatP_ovF8"
      },
      "execution_count": null,
      "outputs": []
    },
    {
      "cell_type": "code",
      "source": [
        "def rank_documents(terms, docs, index, idf, tf, tweet_index):\n",
        "    \"\"\"\n",
        "    Perform the ranking of the results of a search based on the tf-idf weights\n",
        "\n",
        "    Argument:\n",
        "    terms -- list of query terms\n",
        "    docs -- list of documents, to rank, matching the query\n",
        "    index -- inverted index data structure\n",
        "    idf -- inverted document frequencies\n",
        "    tf -- term frequencies\n",
        "    title_index -- mapping between page id and page title\n",
        "\n",
        "    Returns:\n",
        "    Print the list of ranked documents\n",
        "    \"\"\"\n",
        "\n",
        "    # I'm interested only on the element of the docVector corresponding to the query terms\n",
        "    # The remaining elements would became 0 when multiplied to the query_vector\n",
        "    doc_vectors = defaultdict(lambda: [0] * len(terms)) # I call doc_vectors[k] for a nonexistent key k, the key-value pair (k,[0]*len(terms)) will be automatically added to the dictionary\n",
        "    query_vector = [0] * len(terms)\n",
        "\n",
        "    # compute the norm for the query tf\n",
        "    query_terms_count = collections.Counter(terms)  # get the frequency of each term in the query.\n",
        "    # Example: collections.Counter([\"hello\",\"hello\",\"world\"]) --> Counter({'hello': 2, 'world': 1})\n",
        "    # HINT: use when computing tf for query_vector\n",
        "\n",
        "    query_norm = la.norm(list(query_terms_count.values()))\n",
        "\n",
        "    for termIndex, term in enumerate(terms):  #termIndex is the index of the term in the query\n",
        "        if term not in index:\n",
        "            continue\n",
        "\n",
        "        ## Compute tf*idf(normalize TF as done with documents)\n",
        "        query_vector[termIndex]=query_terms_count[term]/query_norm * idf[term]\n",
        "\n",
        "        # Generate doc_vectors for matching docs\n",
        "        for doc_index, (doc, postings) in enumerate(index[term]):\n",
        "            # Example of [doc_index, (doc, postings)]\n",
        "            # 0 (26, array('I', [1, 4, 12, 15, 22, 28, 32, 43, 51, 68, 333, 337]))\n",
        "            # 1 (33, array('I', [26, 33, 57, 71, 87, 104, 109]))\n",
        "            # term is in doc 26 in positions 1,4, .....\n",
        "            # term is in doc 33 in positions 26,33, .....\n",
        "\n",
        "            #tf[term][0] will contain the tf of the term \"term\" in the doc 26\n",
        "            if doc in docs:\n",
        "                doc_vectors[doc][termIndex] = tf[term][doc_index] * idf[term]  # TODO: check if multiply for idf\n",
        "\n",
        "    # Calculate the score of each doc\n",
        "    # compute the cosine similarity between queyVector and each docVector:\n",
        "    # HINT: you can use the dot product because in case of normalized vectors it corresponds to the cosine similarity\n",
        "    # see np.dot\n",
        "\n",
        "    doc_scores=[[np.dot(curDocVec, query_vector), doc] for doc, curDocVec in doc_vectors.items() ]\n",
        "    doc_scores.sort(reverse=True)\n",
        "    result_docs = [x[1] for x in doc_scores]\n",
        "    #print document titles instead if document id's\n",
        "    #result_docs=[ title_index[x] for x in result_docs ]\n",
        "    if len(result_docs) == 0:\n",
        "        print(\"No results found, try again\")\n",
        "        query = input()\n",
        "        result_docs, doc_scores = search_tf_idf(query, index)\n",
        "    #print ('\\n'.join(result_docs), '\\n')\n",
        "    return result_docs, doc_scores"
      ],
      "metadata": {
        "id": "tm-H0qzyo1ke"
      },
      "execution_count": null,
      "outputs": []
    },
    {
      "cell_type": "code",
      "source": [
        "def search_tf_idf(query, index):\n",
        "    \"\"\"\n",
        "    output is the list of documents that contain any of the query terms.\n",
        "    So, we will get the list of documents for each query term, and take the union of them.\n",
        "    \"\"\"\n",
        "    query = build_terms(query)\n",
        "    docs = set()\n",
        "    for term in query:\n",
        "        try:\n",
        "            # store in term_docs the ids of the docs that contain \"term\"\n",
        "            term_docs=[posting[0] for posting in index[term]]\n",
        "\n",
        "            # docs = docs Union term_docs\n",
        "            docs |= set(term_docs)\n",
        "        except:\n",
        "            #term is not in index\n",
        "            pass\n",
        "    docs = list(docs)\n",
        "    ranked_docs, scores = rank_documents(query, docs, index, idf, tf, tweet_index)\n",
        "    return ranked_docs, scores"
      ],
      "metadata": {
        "id": "wSTEu7fEsdh6"
      },
      "execution_count": null,
      "outputs": []
    },
    {
      "cell_type": "code",
      "source": [
        "df_merged_copy = df_merged.copy()\n",
        "'''print(\"Insert your query (i.e.: Computer Science):\\n\")\n",
        "query = input()\n",
        "ranked_docs, doc_scores = search_tf_idf(query, index)\n",
        "\n",
        "print(len(doc_scores))\n",
        "\n",
        "top = 10\n",
        "\n",
        "print(\"\\n======================\\nSample of {} results out of {} for the searched query:\\n\".format(min(top, len(ranked_docs)), len(ranked_docs)))\n",
        "\n",
        "for d_id in ranked_docs[:top]:\n",
        "\n",
        "  for i in range(len(df_merged_copy)):\n",
        "        if df_merged_copy['id'][i] == d_id:\n",
        "            print(\"doc_num = {} and the tweet is = {}\".format(df_merged_copy['doc_num'][i], df_merged_copy['full_text'][i]))'''"
      ],
      "metadata": {
        "id": "iyaPC5rksdWs"
      },
      "execution_count": null,
      "outputs": []
    },
    {
      "cell_type": "markdown",
      "source": [
        "###Evaluation\n",
        "\n"
      ],
      "metadata": {
        "id": "POVvF2qbxO0s"
      }
    },
    {
      "cell_type": "code",
      "source": [
        "df_evaluation=pd.read_csv('Evaluation_gt.csv') #we create a dataframe with the prediction scores of each of the documents\n",
        "df_evaluation['predicted_scores_q1'] = [0]*60  #we create a column for each of the queries\n",
        "df_evaluation['predicted_scores_q2'] = [0]*60\n",
        "df_evaluation['predicted_scores_q3'] = [0]*60\n",
        "df_evaluation['label_q1'] = [0]*60\n",
        "df_evaluation['label_q2'] = [0]*60\n",
        "df_evaluation['label_q3'] = [0]*60"
      ],
      "metadata": {
        "id": "EvZUiDBnya35"
      },
      "execution_count": null,
      "outputs": []
    },
    {
      "cell_type": "code",
      "source": [
        "for i in range(len(df_evaluation)): # we keep the 0 if it is not a relevant doc for the query\n",
        "  if df_evaluation['query_id'][i] == \"Q1\":\n",
        "    df_evaluation['label_q1'][i] = df_evaluation['label'][i]\n",
        "  elif df_evaluation['query_id'][i] == \"Q2\":\n",
        "    df_evaluation['label_q2'][i] = df_evaluation['label'][i]\n",
        "  else:\n",
        "    df_evaluation['label_q3'][i] = df_evaluation['label'][i]"
      ],
      "metadata": {
        "id": "mSgdPNucEe36"
      },
      "execution_count": null,
      "outputs": []
    },
    {
      "cell_type": "code",
      "source": [
        "def precision_at_k(doc_score, y_score, k=10):\n",
        "    \"\"\"\n",
        "    Parameters\n",
        "    ----------\n",
        "    doc_score: Ground truth (true relevance labels).\n",
        "    y_score: Predicted scores.\n",
        "    k : number of doc to consider.\n",
        "\n",
        "    Returns\n",
        "    -------\n",
        "    precision @k : float\n",
        "\n",
        "    \"\"\"\n",
        "    order = np.argsort(y_score)[::-1]  #we sort the predictions by  score\n",
        "    doc_score = np.take(doc_score, order[:k]) #y_true    we take the k most relevant that we predicted from the ground truth list\n",
        "    relevant = sum(doc_score==1)  # we sum the relevant documents that were in our prediction as well\n",
        "    return float(relevant)/k #we return the sum divided by k\n",
        "\n",
        "def recall_at_k(doc_score, y_score, k=10):\n",
        "    \"\"\"\n",
        "    Parameters\n",
        "    ----------\n",
        "    doc_score: Ground truth (true relevance labels).\n",
        "    y_score: Predicted scores.\n",
        "    k: Number of documents to consider.\n",
        "\n",
        "    Returns\n",
        "    -------\n",
        "    recall @k: float\n",
        "\n",
        "    \"\"\"\n",
        "    order = np.argsort(y_score)[::-1] #we sort the predictions by  score\n",
        "    doc_score = np.take(doc_score, order[:k])  # y_true   we take the k most relevant that we predicted from the ground truth list\n",
        "    relevant = sum(doc_score == 1)# we sum the relevant documents that were in our prediction as well\n",
        "    total_relevant = sum(doc_score) #we sum to get the total number of relevant documents\n",
        "\n",
        "    return float(relevant)/total_relevant # we return the division between relevant and total relevant\n",
        "\n",
        "def avg_precision_at_k(doc_score, y_score, query_label ,k=10):\n",
        "    \"\"\"\n",
        "    Parameters\n",
        "    ----------\n",
        "    doc_score: Ground truth (true relevance labels).\n",
        "    y_score: Predicted scores.\n",
        "    query_label: a label for the query we'll be performing\n",
        "    k : number of doc to consider.\n",
        "\n",
        "    Returns\n",
        "    -------\n",
        "    average precision @k : float\n",
        "    \"\"\"\n",
        "    gtp = np.sum(doc_score==1)  # we get the total number of relevant documents\n",
        "    order = np.argsort(y_score)[::-1]  #sort our predicted docs by most relevant\n",
        "    doc_score = np.take(doc_score, order[:k]) #y_true  we take the k most relevant that we predicted from the ground truth list\n",
        "    ## if all documents are not relevant\n",
        "    if gtp == 0:\n",
        "        return 0\n",
        "    n_relevant_at_i = 0\n",
        "    prec_at_i = 0\n",
        "\n",
        "    score_df = pd.DataFrame(doc_score)\n",
        "    score_df = score_df.reset_index(drop=True) #we reset the indexes\n",
        "\n",
        "    for i in range(k): #for every prediction\n",
        "        if score_df[query_label][i] == 1:\n",
        "            n_relevant_at_i += 1 #we sum in the relevant counter\n",
        "            prec_at_i += n_relevant_at_i/(i+1) #we sum in the formula\n",
        "    return prec_at_i/gtp\n",
        "\n",
        "\n",
        "def map_at_k(queries_labels, search_res, k=10):\n",
        "    \"\"\"\n",
        "    Parameters\n",
        "    ----------\n",
        "     queries_labels: labels for each query we'll be performing\n",
        "     search_res: matrix with the following components\n",
        "        doc_score (even positions): Ground truth (true relevance labels).\n",
        "        y_score (odd positions): Predicted scores.\n",
        "     k: number of doc to consider.\n",
        "\n",
        "\n",
        "    Returns\n",
        "    -------\n",
        "    mean average precision @ k : float\n",
        "    \"\"\"\n",
        "    avp = []\n",
        "    q_id = 0\n",
        "    for q in queries_labels:\n",
        "        doc_score = search_res[q_id]\n",
        "        y_score = search_res[q_id+1]\n",
        "        q_id += 2\n",
        "\n",
        "        value = avg_precision_at_k(doc_score, y_score, q, k=10)\n",
        "        avp.append(value)  #append average precision for current query\n",
        "    return sum(avp)/len(avp), avp  # return mean average precision\n",
        "\n",
        "\n",
        "def rr_at_k(doc_score, y_score, k=10):\n",
        "    \"\"\"\n",
        "    Parameters\n",
        "    ----------\n",
        "    doc_score: Ground truth (true relevance labels).\n",
        "    y_score: Predicted scores.\n",
        "    k : number of doc to consider.\n",
        "\n",
        "    Returns\n",
        "    -------\n",
        "    Reciprocal Rank for qurrent query\n",
        "    \"\"\"\n",
        "\n",
        "    order = np.argsort(y_score)[::-1]\n",
        "    doc_score = np.take(doc_score, order[:k]) #y_true\n",
        "\n",
        "    if np.sum(doc_score) == 0:  # if there are not relevant doument return 0\n",
        "        return 0\n",
        "    return 1/(np.argmax(doc_score==1)+1)  # hint: to get the position of the first relevant document use \"np.argmax\"\n",
        "\n",
        "\n",
        "def mrr_at_k(queries_labels, search_res, k=10):\n",
        "    \"\"\"\n",
        "    Parameters\n",
        "    ----------\n",
        "    queries_labels: labels for each query we'll be performing\n",
        "    search_res: matrix with the following components\n",
        "        doc_score (even positions): Ground truth (true relevance labels).\n",
        "        y_score (odd positions): Predicted scores.\n",
        "    k: number of doc to consider.\n",
        "\n",
        "\n",
        "    Returns\n",
        "    -------\n",
        "    mean reciprocal rank @ k : float\n",
        "    \"\"\"\n",
        "    avp = []\n",
        "    q_id = 0\n",
        "    for q in queries_labels:\n",
        "        doc_score = search_res[q_id]\n",
        "        y_score = search_res[q_id+1]\n",
        "        q_id += 2\n",
        "\n",
        "        value = rr_at_k(doc_score, y_score, k=10)\n",
        "        avp.append(value)  #append average precision for current query\n",
        "    return sum(avp)/len(avp), avp  # return mean average precision\n",
        "\n",
        "\n",
        "def dcg_at_k(doc_score, y_score, k=10):\n",
        "    \"\"\"\n",
        "    Parameters\n",
        "    ----------\n",
        "    doc_score: Ground truth (true relevance labels).\n",
        "    y_score: Predicted scores.\n",
        "    k : number of doc to consider.\n",
        "\n",
        "    Returns\n",
        "    -------\n",
        "    dcg for qurrent query\n",
        "    \"\"\"\n",
        "\n",
        "    order = np.argsort(y_score)[::-1]\n",
        "    doc_score = np.take(doc_score, order[:k]) #y_true\n",
        "    gain = 2** doc_score-1  # Compute gain (use formula 7 above)\n",
        "    discounts = np.log2(np.arange(len(doc_score))+2)  # Compute denominator\n",
        "    return np.sum(gain / discounts)  #return dcg@k\n",
        "\n",
        "\n",
        "def ndcg_at_k(doc_score, y_score, k=10):\n",
        "    \"\"\"\n",
        "    Parameters\n",
        "    ----------\n",
        "    doc_score: Ground truth (true relevance labels).\n",
        "    y_score: Predicted scores.\n",
        "    k : number of doc to consider.\n",
        "\n",
        "    Returns\n",
        "    -------\n",
        "    ndcg for qurrent query\n",
        "    \"\"\"\n",
        "\n",
        "    dcg_max = dcg_at_k(doc_score, doc_score, k=10) # Ideal dcg\n",
        "    if not dcg_max:\n",
        "        return 0\n",
        "    return np.round(dcg_at_k(doc_score, y_score, k=10)/dcg_max, 4) # return ndcg@k\n",
        "\n",
        "def mndcg(queries_labels, search_res, k=10):\n",
        "    \"\"\"\n",
        "    Parameters\n",
        "    ----------\n",
        "    queries_labels: labels for each query we'll be performing\n",
        "    search_res: matrix with the following components\n",
        "        doc_score (even positions): Ground truth (true relevance labels).\n",
        "        y_score (odd positions): Predicted scores.\n",
        "    k: number of doc to consider.\n",
        "\n",
        "\n",
        "    Returns\n",
        "    -------\n",
        "    mean normalized discounted cumulative gain @ k : float\n",
        "    \"\"\"\n",
        "    avp = []\n",
        "    q_id = 0\n",
        "    for q in queries_labels:\n",
        "        doc_score = search_res[q_id]\n",
        "        y_score = search_res[q_id+1]\n",
        "        q_id += 2\n",
        "\n",
        "        value = ndcg_at_k(doc_score, y_score, k=10)\n",
        "        avp.append(value)  #append average precision for current query\n",
        "    return sum(avp)/len(avp), avp  # return mean average precision\n",
        "\n",
        "def f1_at_k(doc_score, y_score, k=10):\n",
        "  rec = recall_at_k(doc_score, y_score, k=10) #calculate the recall with the function\n",
        "  prec = precision_at_k(doc_score, y_score, k=10) #calculate the precision with the function\n",
        "  f1 = 2*(prec*rec)/(prec+rec) #apply the formula\n",
        "  return f1"
      ],
      "metadata": {
        "id": "zQ_RFZsLzPwl"
      },
      "execution_count": null,
      "outputs": []
    },
    {
      "cell_type": "code",
      "source": [
        "#for each of the queries\n",
        "\n",
        "#check for query 1\n",
        "Q1 = build_terms(\"tank in Kharkiv\")\n",
        "Q1 = ' '.join(Q1)\n",
        "ranked_docs, doc_scores = search_tf_idf(Q1, index) #calculate the most relevant (prediction with the algorithm implemented earlier)\n",
        "for i in range(len(doc_scores)):\n",
        "  for j in range(len(df_merged_copy)):\n",
        "    if df_merged_copy['id'][j] == doc_scores[i][1]:  #if the tweet is relevant\n",
        "      doc_num = df_merged_copy['doc_num'][j] #get the doc num\n",
        "      for m in range(len(df_evaluation)):\n",
        "        if df_evaluation['doc'][m] == doc_num:\n",
        "          df_evaluation['predicted_scores_q1'][m] = doc_scores[i][0] #we add it to the table\n",
        "\n",
        "#check for query 2\n",
        "Q2 = build_terms(\"Nord Stream pipeline\")\n",
        "Q2 = ' '.join(Q2)\n",
        "ranked_docs, doc_scores = search_tf_idf(Q2, index)\n",
        "for i in range(len(doc_scores)):\n",
        "  for j in range(len(df_merged_copy)):\n",
        "    if df_merged_copy['id'][j] == doc_scores[i][1]:\n",
        "      doc_num = df_merged_copy['doc_num'][j]\n",
        "      for m in range(len(df_evaluation)):\n",
        "        if df_evaluation['doc'][m] == doc_num:\n",
        "          df_evaluation['predicted_scores_q2'][m] = doc_scores[i][0]\n",
        "\n",
        "\n",
        "#check for query 3\n",
        "Q3 = build_terms(\"annexion of territories by Russia\")\n",
        "Q3 = ' '.join(Q3)\n",
        "ranked_docs, doc_scores = search_tf_idf(Q3, index)\n",
        "for i in range(len(doc_scores)):\n",
        "  for j in range(len(df_merged_copy)):\n",
        "    if df_merged_copy['id'][j] == doc_scores[i][1]:\n",
        "      doc_num = df_merged_copy['doc_num'][j]\n",
        "      for m in range(len(df_evaluation)):\n",
        "        if df_evaluation['doc'][m] == doc_num:\n",
        "          df_evaluation['predicted_scores_q3'][m] = doc_scores[i][0]"
      ],
      "metadata": {
        "id": "2MHCqEw_zdW3"
      },
      "execution_count": null,
      "outputs": []
    },
    {
      "cell_type": "code",
      "source": [
        "df_evaluation_copy = df_evaluation.copy()\n",
        "indices_to_drop = []\n",
        "for i in range(len(df_evaluation_copy)):    #get the relevant documents of the query\n",
        "  if df_evaluation_copy['label'][i] != 1:\n",
        "    if df_evaluation_copy['query_id'][i] != \"Q1\":\n",
        "      indices_to_drop.append(i)\n",
        "df_q1 = df_evaluation_copy.drop(indices_to_drop)\n",
        "df_q1 = df_q1.reset_index(drop=True)\n",
        "#we get the prediction and the ground truth and call the evaluation functions for each of the queries\n",
        "ground_truth_1 = df_q1['label_q1']\n",
        "predicted_scores_1 = df_q1['predicted_scores_q1']\n",
        "\n",
        "print(\"Precision for Q1:\", precision_at_k(ground_truth_1, predicted_scores_1, k=10))\n",
        "print(\"Recall for Q1:\", recall_at_k(ground_truth_1, predicted_scores_1, k=10))\n",
        "print(\"F1 at k for Q1:\", f1_at_k(ground_truth_1, predicted_scores_1, k=10))\n",
        "print(\"Average precision for Q1:\", avg_precision_at_k(ground_truth_1, predicted_scores_1,'label_q1', k=10 ))\n",
        "print(\"Reciprocal rank for Q1:\", rr_at_k(ground_truth_1, predicted_scores_1, k=10))\n",
        "print(\"Normalized Discounted Cumulative Gain for Q1:\", ndcg_at_k(ground_truth_1, predicted_scores_1, k=10))"
      ],
      "metadata": {
        "id": "p56_GRdDBsuY"
      },
      "execution_count": null,
      "outputs": []
    },
    {
      "cell_type": "code",
      "source": [
        "df_evaluation_copy = df_evaluation.copy()\n",
        "indices_to_drop = []\n",
        "for i in range(len(df_evaluation_copy)):\n",
        "  if df_evaluation_copy['label'][i] != 1:\n",
        "    if df_evaluation_copy['query_id'][i] != \"Q2\":\n",
        "      indices_to_drop.append(i)\n",
        "df_q2 = df_evaluation_copy.drop(indices_to_drop)\n",
        "df_q2 = df_q2.reset_index(drop=True)\n",
        "\n",
        "\n",
        "ground_truth_2 = df_q2['label_q2']\n",
        "predicted_scores_2 = df_q2['predicted_scores_q2']\n",
        "\n",
        "print(\"Precision for Q2:\", precision_at_k(ground_truth_2, predicted_scores_2, k=10))\n",
        "print(\"Recall for Q2:\", recall_at_k(ground_truth_2, predicted_scores_2, k=10))\n",
        "print(\"F1 at k for Q2:\", f1_at_k(ground_truth_2, predicted_scores_2, k=10))\n",
        "print(\"Average precision for Q2:\", avg_precision_at_k(ground_truth_2, predicted_scores_2,'label_q2', k=10))\n",
        "print(\"Reciprocal rank for Q2:\", rr_at_k(ground_truth_2, predicted_scores_2, k=10))\n",
        "print(\"Normalized Discounted Cumulative Gain for Q2:\", ndcg_at_k(ground_truth_2, predicted_scores_2, k=10))"
      ],
      "metadata": {
        "id": "DCjEZOmYGvZK"
      },
      "execution_count": null,
      "outputs": []
    },
    {
      "cell_type": "code",
      "source": [
        "df_evaluation_copy = df_evaluation.copy()\n",
        "indices_to_drop = []\n",
        "for i in range(len(df_evaluation_copy)):\n",
        "  if df_evaluation_copy['label'][i] != 1:\n",
        "    if df_evaluation_copy['query_id'][i] != \"Q3\":\n",
        "      indices_to_drop.append(i)\n",
        "df_q3 = df_evaluation_copy.drop(indices_to_drop)\n",
        "df_q3 = df_q3.reset_index(drop=True)\n",
        "\n",
        "ground_truth_3 = df_q3['label_q3']\n",
        "predicted_scores_3 = df_q3['predicted_scores_q3']\n",
        "\n",
        "print(\"Precision for Q3:\", precision_at_k(ground_truth_3, predicted_scores_3, k=10))\n",
        "print(\"Recall for Q3:\", recall_at_k(ground_truth_3, predicted_scores_3, k=10))\n",
        "print(\"F1 at k for Q3:\", f1_at_k(ground_truth_3, predicted_scores_3, k=10))\n",
        "print(\"Average precision for Q3:\", avg_precision_at_k(ground_truth_3, predicted_scores_3,'label_q3', k=10))\n",
        "print(\"Reciprocal rank for Q3:\", rr_at_k(ground_truth_3, predicted_scores_3, k=10))\n",
        "print(\"Normalized Discounted Cumulative Gain for Q3:\", ndcg_at_k(ground_truth_3, predicted_scores_3, k=10))"
      ],
      "metadata": {
        "id": "6_jgEdFsGvt2"
      },
      "execution_count": null,
      "outputs": []
    },
    {
      "cell_type": "code",
      "source": [
        "matrix=[ground_truth_1, predicted_scores_1, ground_truth_2, predicted_scores_2, ground_truth_3, predicted_scores_3]\n",
        "print(\"The mean averagre precision is\", map_at_k(['label_q1', 'label_q2', 'label_q3'], matrix, k=10))\n",
        "print(\"The mean reciprocal rank is\", mrr_at_k(['label_q1', 'label_q2', 'label_q3'], matrix, k=10))\n",
        "print(\"The mean normalized discounted cumulative gain is\", mndcg(['label_q1', 'label_q2', 'label_q3'], matrix, k=10))"
      ],
      "metadata": {
        "id": "GPVH71mqS6nd"
      },
      "execution_count": null,
      "outputs": []
    },
    {
      "cell_type": "code",
      "source": [
        "Q1 = build_terms(\"Mykolaiv explosion bus station\")\n",
        "Q1 = ' '.join(Q1)\n",
        "\n",
        "\n",
        "ranked_docs, doc_scores = search_tf_idf(Q1, index)\n",
        "\n",
        "top = 10\n",
        "\n",
        "print(\"\\n======================\\nSample of {} results out of {} for the query '{}':\\n\".format(min(top, len(ranked_docs)), len(ranked_docs), Q1))\n",
        "\n",
        "for d_id in ranked_docs[:top]:\n",
        "  for i in range(len(df_merged_copy)):\n",
        "        if df_merged_copy['id'][i] == d_id:\n",
        "            print(\"doc_num = {} \".format(df_merged_copy['doc_num'][i]))\n",
        "\n",
        "\n"
      ],
      "metadata": {
        "id": "7bx81QLf9H3k"
      },
      "execution_count": null,
      "outputs": []
    },
    {
      "cell_type": "code",
      "source": [
        "import random\n",
        "\n",
        "# We read our file where we have the ground truths and fill the the docs that are not relevant with random documents\n",
        "datos = pd.read_csv('/content/drive/Shareddrives/RIAW/Project/evaluation_own_queries_2.csv', delimiter=';')\n",
        "datos = datos.drop('Unnamed: 3', axis=1)\n",
        "datos = datos.drop('Unnamed: 4', axis=1)\n",
        "for i in range(len(datos)):\n",
        "  if datos['doc'][i] == 'doc_': #if the doc is a non relevant\n",
        "    a = False\n",
        "    while(a == False):\n",
        "      rand = random.randint(1, 4000)\n",
        "      doc = \"doc_\" + str(rand)\n",
        "      unique = True\n",
        "      for j in range(len(datos)):\n",
        "        if datos['doc'][j] == doc:\n",
        "          if datos['query_id'][j] == datos['query_id'][i]:\n",
        "            if datos['label'][j] == datos['label'][i]:\n",
        "              unique = False\n",
        "      if unique:\n",
        "        a = True\n",
        "    datos['doc'][i] = doc\n",
        "datos"
      ],
      "metadata": {
        "id": "raZ0cbyNckgM"
      },
      "execution_count": null,
      "outputs": []
    },
    {
      "cell_type": "code",
      "source": [
        "df_evaluation_own=datos #same ad before but for our 5 queries\n",
        "df_evaluation_own['predicted_scores_q1'] = [0]*100\n",
        "df_evaluation_own['predicted_scores_q2'] = [0]*100\n",
        "df_evaluation_own['predicted_scores_q3'] = [0]*100\n",
        "df_evaluation_own['predicted_scores_q4'] = [0]*100\n",
        "df_evaluation_own['predicted_scores_q5'] = [0]*100\n",
        "df_evaluation_own['label_q1'] = [0]*100\n",
        "df_evaluation_own['label_q2'] = [0]*100\n",
        "df_evaluation_own['label_q3'] = [0]*100\n",
        "df_evaluation_own['label_q4'] = [0]*100\n",
        "df_evaluation_own['label_q5'] = [0]*100"
      ],
      "metadata": {
        "id": "YHr4baKebs-m"
      },
      "execution_count": null,
      "outputs": []
    },
    {
      "cell_type": "code",
      "source": [
        "for i in range(len(df_evaluation_own)):\n",
        "  if df_evaluation_own['query_id'][i] == \"Q1\":\n",
        "    df_evaluation_own['label_q1'][i] = df_evaluation_own['label'][i]\n",
        "  elif df_evaluation_own['query_id'][i] == \"Q2\":\n",
        "    df_evaluation_own['label_q2'][i] = df_evaluation_own['label'][i]\n",
        "  elif df_evaluation_own['query_id'][i] == \"Q3\":\n",
        "    df_evaluation_own['label_q3'][i] = df_evaluation_own['label'][i]\n",
        "  elif df_evaluation_own['query_id'][i] == \"Q4\":\n",
        "    df_evaluation_own['label_q4'][i] = df_evaluation_own['label'][i]\n",
        "  else:\n",
        "    df_evaluation_own['label_q5'][i] = df_evaluation_own['label'][i]"
      ],
      "metadata": {
        "id": "NFDVPHaHbynj"
      },
      "execution_count": null,
      "outputs": []
    },
    {
      "cell_type": "code",
      "source": [
        "#check for query 1\n",
        "Q1 = build_terms(\"Drone attacks to Ukraine\")\n",
        "Q1 = ' '.join(Q1)\n",
        "ranked_docs, doc_scores = search_tf_idf(Q1, index)\n",
        "for i in range(len(doc_scores)):\n",
        "  for j in range(len(df_merged_copy)):\n",
        "    if df_merged_copy['id'][j] == doc_scores[i][1]:\n",
        "      doc_num = df_merged_copy['doc_num'][j]\n",
        "      for m in range(len(df_evaluation_own)):\n",
        "        if df_evaluation_own['doc'][m] == doc_num:\n",
        "          df_evaluation_own['predicted_scores_q1'][m] = doc_scores[i][0]\n",
        "\n",
        "#check for query 2\n",
        "Q2 = build_terms(\"Crimea bridge explosion\")\n",
        "Q2 = ' '.join(Q2)\n",
        "ranked_docs, doc_scores = search_tf_idf(Q2, index)\n",
        "for i in range(len(doc_scores)):\n",
        "  for j in range(len(df_merged_copy)):\n",
        "    if df_merged_copy['id'][j] == doc_scores[i][1]:\n",
        "      doc_num = df_merged_copy['doc_num'][j]\n",
        "      for m in range(len(df_evaluation_own)):\n",
        "        if df_evaluation_own['doc'][m] == doc_num:\n",
        "          df_evaluation_own['predicted_scores_q2'][m] = doc_scores[i][0]\n",
        "\n",
        "\n",
        "#check for query 3\n",
        "Q3 = build_terms(\"Ukraine joining NATO\")\n",
        "Q3 = ' '.join(Q3)\n",
        "ranked_docs, doc_scores = search_tf_idf(Q3, index)\n",
        "for i in range(len(doc_scores)):\n",
        "  for j in range(len(df_merged_copy)):\n",
        "    if df_merged_copy['id'][j] == doc_scores[i][1]:\n",
        "      doc_num = df_merged_copy['doc_num'][j]\n",
        "      for m in range(len(df_evaluation_own)):\n",
        "        if df_evaluation_own['doc'][m] == doc_num:\n",
        "          df_evaluation_own['predicted_scores_q3'][m] = doc_scores[i][0]\n",
        "\n",
        "#check for query 4\n",
        "Q4 = build_terms(\"Pentagon provides 18 HIMARS\")\n",
        "Q4 = ' '.join(Q4)\n",
        "ranked_docs, doc_scores = search_tf_idf(Q4, index)\n",
        "for i in range(len(doc_scores)):\n",
        "  for j in range(len(df_merged_copy)):\n",
        "    if df_merged_copy['id'][j] == doc_scores[i][1]:\n",
        "      doc_num = df_merged_copy['doc_num'][j]\n",
        "      for m in range(len(df_evaluation_own)):\n",
        "        if df_evaluation_own['doc'][m] == doc_num:\n",
        "          df_evaluation_own['predicted_scores_q4'][m] = doc_scores[i][0]\n",
        "\n",
        "#check for query 5\n",
        "Q5 = build_terms(\"Mykolaiv explosion bus station\")\n",
        "Q5 = ' '.join(Q5)\n",
        "ranked_docs, doc_scores = search_tf_idf(Q5, index)\n",
        "for i in range(len(doc_scores)):\n",
        "  for j in range(len(df_merged_copy)):\n",
        "    if df_merged_copy['id'][j] == doc_scores[i][1]:\n",
        "      doc_num = df_merged_copy['doc_num'][j]\n",
        "      for m in range(len(df_evaluation_own)):\n",
        "        if df_evaluation_own['doc'][m] == doc_num:\n",
        "          df_evaluation_own['predicted_scores_q5'][m] = doc_scores[i][0]"
      ],
      "metadata": {
        "id": "kr2YZPPxfrK4"
      },
      "execution_count": null,
      "outputs": []
    },
    {
      "cell_type": "code",
      "source": [
        "df_evaluation_copy = df_evaluation_own.copy()\n",
        "indices_to_drop = []\n",
        "for i in range(len(df_evaluation_copy)):    #get the relevant documents of the query\n",
        "  if df_evaluation_copy['label'][i] != 1:\n",
        "    if df_evaluation_copy['query_id'][i] != \"Q1\":\n",
        "      indices_to_drop.append(i)\n",
        "df_q1 = df_evaluation_copy.drop(indices_to_drop)\n",
        "df_q1 = df_q1.reset_index(drop=True)\n",
        "\n",
        "ground_truth_1 = df_q1['label_q1']\n",
        "predicted_scores_1 = df_q1['predicted_scores_q1']\n",
        "\n",
        "print(\"Precision for Q1:\", precision_at_k(ground_truth_1, predicted_scores_1, k=10))\n",
        "print(\"Recall for Q1:\", recall_at_k(ground_truth_1, predicted_scores_1, k=10))\n",
        "print(\"F1 at k for Q1:\", f1_at_k(ground_truth_1, predicted_scores_1, k=10))\n",
        "print(\"Average precision for Q1:\", avg_precision_at_k(ground_truth_1, predicted_scores_1,'label_q1', k=10 ))\n",
        "print(\"Reciprocal rank for Q1:\", rr_at_k(ground_truth_1, predicted_scores_1, k=10))\n",
        "print(\"Normalized Discounted Cumulative Gain for Q1:\", ndcg_at_k(ground_truth_1, predicted_scores_1, k=10))"
      ],
      "metadata": {
        "id": "0gANIHO-kDWK"
      },
      "execution_count": null,
      "outputs": []
    },
    {
      "cell_type": "code",
      "source": [
        "df_evaluation_copy = df_evaluation_own.copy()\n",
        "indices_to_drop = []\n",
        "for i in range(len(df_evaluation_copy)):\n",
        "  if df_evaluation_copy['label'][i] != 1:\n",
        "    if df_evaluation_copy['query_id'][i] != \"Q2\":\n",
        "      indices_to_drop.append(i)\n",
        "df_q2 = df_evaluation_copy.drop(indices_to_drop)\n",
        "df_q2 = df_q2.reset_index(drop=True)\n",
        "\n",
        "\n",
        "ground_truth_2 = df_q2['label_q2']\n",
        "predicted_scores_2 = df_q2['predicted_scores_q2']\n",
        "\n",
        "print(\"Precision for Q2:\", precision_at_k(ground_truth_2, predicted_scores_2, k=10))\n",
        "print(\"Recall for Q2:\", recall_at_k(ground_truth_2, predicted_scores_2, k=10))\n",
        "print(\"F1 at k for Q2:\", f1_at_k(ground_truth_2, predicted_scores_2, k=10))\n",
        "print(\"Average precision for Q2:\", avg_precision_at_k(ground_truth_2, predicted_scores_2,'label_q2', k=10))\n",
        "print(\"Reciprocal rank for Q2:\", rr_at_k(ground_truth_2, predicted_scores_2, k=10))\n",
        "print(\"Normalized Discounted Cumulative Gain for Q2:\", ndcg_at_k(ground_truth_2, predicted_scores_2, k=10))"
      ],
      "metadata": {
        "id": "Y6_wIzjbkP2F"
      },
      "execution_count": null,
      "outputs": []
    },
    {
      "cell_type": "code",
      "source": [
        "df_evaluation_copy = df_evaluation_own.copy()\n",
        "indices_to_drop = []\n",
        "for i in range(len(df_evaluation_copy)):\n",
        "  if df_evaluation_copy['label'][i] != 1:\n",
        "    if df_evaluation_copy['query_id'][i] != \"Q3\":\n",
        "      indices_to_drop.append(i)\n",
        "df_q3 = df_evaluation_copy.drop(indices_to_drop)\n",
        "df_q3 = df_q3.reset_index(drop=True)\n",
        "\n",
        "\n",
        "ground_truth_3 = df_q3['label_q3']\n",
        "predicted_scores_3 = df_q3['predicted_scores_q3']\n",
        "\n",
        "print(\"Precision for Q3:\", precision_at_k(ground_truth_3, predicted_scores_3, k=10))\n",
        "print(\"Recall for Q3:\", recall_at_k(ground_truth_3, predicted_scores_3, k=10))\n",
        "print(\"F1 at k for Q3:\", f1_at_k(ground_truth_3, predicted_scores_3, k=10))\n",
        "print(\"Average precision for Q3:\", avg_precision_at_k(ground_truth_3, predicted_scores_3,'label_q3', k=10))\n",
        "print(\"Reciprocal rank for Q3:\", rr_at_k(ground_truth_3, predicted_scores_3, k=10))\n",
        "print(\"Normalized Discounted Cumulative Gain for Q3:\", ndcg_at_k(ground_truth_3, predicted_scores_3, k=10))"
      ],
      "metadata": {
        "id": "fdhcwo97lDgE"
      },
      "execution_count": null,
      "outputs": []
    },
    {
      "cell_type": "code",
      "source": [
        "df_evaluation_copy = df_evaluation_own.copy()\n",
        "indices_to_drop = []\n",
        "for i in range(len(df_evaluation_copy)):\n",
        "  if df_evaluation_copy['label'][i] != 1:\n",
        "    if df_evaluation_copy['query_id'][i] != \"Q4\":\n",
        "      indices_to_drop.append(i)\n",
        "df_q4 = df_evaluation_copy.drop(indices_to_drop)\n",
        "df_q4 = df_q4.reset_index(drop=True)\n",
        "\n",
        "\n",
        "ground_truth_4 = df_q4['label_q4']\n",
        "predicted_scores_4 = df_q4['predicted_scores_q4']\n",
        "\n",
        "print(\"Precision for Q4:\", precision_at_k(ground_truth_4, predicted_scores_4, k=10))\n",
        "print(\"Recall for Q4:\", recall_at_k(ground_truth_4, predicted_scores_4, k=10))\n",
        "print(\"F1 at k for Q4:\", f1_at_k(ground_truth_4, predicted_scores_4, k=10))\n",
        "print(\"Average precision for Q4:\", avg_precision_at_k(ground_truth_4, predicted_scores_4,'label_q4', k=10))\n",
        "print(\"Reciprocal rank for Q4:\", rr_at_k(ground_truth_4, predicted_scores_4, k=10))\n",
        "print(\"Normalized Discounted Cumulative Gain for Q4:\", ndcg_at_k(ground_truth_4, predicted_scores_4, k=10))"
      ],
      "metadata": {
        "id": "9a9k6TKqle60"
      },
      "execution_count": null,
      "outputs": []
    },
    {
      "cell_type": "code",
      "source": [
        "df_evaluation_copy = df_evaluation_own.copy()\n",
        "indices_to_drop = []\n",
        "for i in range(len(df_evaluation_copy)):\n",
        "  if df_evaluation_copy['label'][i] != 1:\n",
        "    if df_evaluation_copy['query_id'][i] != \"Q5\":\n",
        "      indices_to_drop.append(i)\n",
        "df_q5 = df_evaluation_copy.drop(indices_to_drop)\n",
        "df_q5 = df_q5.reset_index(drop=True)\n",
        "\n",
        "\n",
        "ground_truth_5 = df_q5['label_q5']\n",
        "predicted_scores_5 = df_q5['predicted_scores_q5']\n",
        "\n",
        "print(\"Precision for Q5:\", precision_at_k(ground_truth_5, predicted_scores_5, k=10))\n",
        "print(\"Recall for Q5:\", recall_at_k(ground_truth_5, predicted_scores_5, k=10))\n",
        "print(\"F1 at k for Q5:\", f1_at_k(ground_truth_5, predicted_scores_5, k=10))\n",
        "print(\"Average precision for Q5:\", avg_precision_at_k(ground_truth_5, predicted_scores_5,'label_q5', k=10))\n",
        "print(\"Reciprocal rank for Q5:\", rr_at_k(ground_truth_5, predicted_scores_5, k=10))\n",
        "print(\"Normalized Discounted Cumulative Gain for Q5:\", ndcg_at_k(ground_truth_5, predicted_scores_5, k=10))"
      ],
      "metadata": {
        "id": "Acggo9Ntlfpq"
      },
      "execution_count": null,
      "outputs": []
    },
    {
      "cell_type": "code",
      "source": [
        "matrix=[ground_truth_1, predicted_scores_1, ground_truth_2, predicted_scores_2, ground_truth_3, predicted_scores_3,ground_truth_4, predicted_scores_4,ground_truth_5, predicted_scores_5]\n",
        "print(\"The mean averagre precision is\", map_at_k(['label_q1', 'label_q2', 'label_q3','label_q4', 'label_q5'], matrix, k=10))\n",
        "print(\"The mean reciprocal rank is\", mrr_at_k(['label_q1', 'label_q2', 'label_q3','label_q4', 'label_q5'], matrix, k=10))\n",
        "print(\"The mean normalized discounted cumulative gain is\", mndcg(['label_q1', 'label_q2', 'label_q3','label_q4', 'label_q5'], matrix, k=10))"
      ],
      "metadata": {
        "id": "vm9exQ-_q5CS"
      },
      "execution_count": null,
      "outputs": []
    },
    {
      "cell_type": "code",
      "source": [
        "#we firstly convert each word into a coordinate\n",
        "text = df_merged['really_normalized'].tolist()\n",
        "model = Word2Vec(text, workers=4, vector_size=100, min_count=50, window=10)\n",
        "X = model.wv[model.wv.index_to_key]\n",
        "\n",
        "tsne = TSNE(n_components=2)\n",
        "X_tsne = tsne.fit_transform(X)\n",
        "\n",
        "#for each of our selected tweets, we represent the tweet as a coordinate since we know the coordinates of each word\n",
        "aaaaa = []\n",
        "for i in range(len(datos)):\n",
        "  if datos['label'][i] == 1:\n",
        "    for j in range(len(df_merged)):\n",
        "      if df_merged['doc_num'][j] == datos['doc'][i]:\n",
        "        tweet = df_merged['really_normalized'][j]\n",
        "    coordenadas_palabras = [0,0]\n",
        "    for word in tweet:\n",
        "      try:\n",
        "        coord = model.wv[word]\n",
        "        coordenadas_palabras[0] = coordenadas_palabras[0] + coord[0]\n",
        "        coordenadas_palabras[1] = coordenadas_palabras[1] + coord[1]\n",
        "      except:\n",
        "        pass\n",
        "    coordenadas_palabras[0] = coordenadas_palabras[0]/len(tweet)\n",
        "    coordenadas_palabras[1] = coordenadas_palabras[1]/len(tweet)\n",
        "    aaaaa.append(coordenadas_palabras)\n",
        "\n",
        "#we extract the coordinated for each tweet\n",
        "x_coords = [coord[0] for coord in aaaaa]\n",
        "y_coords = [coord[1] for coord in aaaaa]\n",
        "\n",
        "\n",
        "#since there are 5 queries, we define 5 colors one per query\n",
        "num_grupos = 5\n",
        "colores = ['red', 'green', 'blue', 'yellow', 'orange']\n",
        "\n",
        "#we assign each color to the corresponding query\n",
        "plt.figure(figsize=(12, 8))\n",
        "for i in range(num_grupos):\n",
        "    inicio = i * 10\n",
        "    fin = inicio + 10\n",
        "    plt.scatter(x_coords[inicio:fin], y_coords[inicio:fin], color=colores[i % len(colores)], label=f'Grupo {i+1}')\n",
        "\n",
        "#define axis\n",
        "plt.xlabel('X-axis')\n",
        "plt.ylabel('Y-axis')\n",
        "plt.title('Scatter Plot of tweets from queries')\n",
        "\n",
        "# adding legend\n",
        "nuevas_etiquetas = ['Query 1', 'Query 2', 'Query 3', 'Query 4', 'Query 5']\n",
        "plt.legend(loc='upper right', bbox_to_anchor=(1.3, 1), title='Grupos', fontsize='medium', labels=nuevas_etiquetas)\n",
        "\n",
        "plt.show()"
      ],
      "metadata": {
        "id": "liqRJMX2jaFn"
      },
      "execution_count": null,
      "outputs": []
    }
  ]
}